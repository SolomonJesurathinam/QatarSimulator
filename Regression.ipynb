{
 "cells": [
  {
   "cell_type": "code",
   "execution_count": 1,
   "id": "015caa1f",
   "metadata": {},
   "outputs": [],
   "source": [
    "import pandas as pd\n",
    "import numpy as np\n",
    "import matplotlib.pyplot as plt\n",
    "import seaborn as sns"
   ]
  },
  {
   "cell_type": "code",
   "execution_count": 2,
   "id": "c0b17316",
   "metadata": {},
   "outputs": [
    {
     "data": {
      "text/html": [
       "<div>\n",
       "<style scoped>\n",
       "    .dataframe tbody tr th:only-of-type {\n",
       "        vertical-align: middle;\n",
       "    }\n",
       "\n",
       "    .dataframe tbody tr th {\n",
       "        vertical-align: top;\n",
       "    }\n",
       "\n",
       "    .dataframe thead th {\n",
       "        text-align: right;\n",
       "    }\n",
       "</style>\n",
       "<table border=\"1\" class=\"dataframe\">\n",
       "  <thead>\n",
       "    <tr style=\"text-align: right;\">\n",
       "      <th></th>\n",
       "      <th>Team1</th>\n",
       "      <th>Team2</th>\n",
       "      <th>Team1_FIFA_RANK</th>\n",
       "      <th>Team2_FIFA_RANK</th>\n",
       "      <th>Team1_Result</th>\n",
       "      <th>Team1_Goalkeeper_Score</th>\n",
       "      <th>Team2_Goalkeeper_Score</th>\n",
       "      <th>Team1_Defense</th>\n",
       "      <th>Team1_Offense</th>\n",
       "      <th>Team1_Midfield</th>\n",
       "      <th>Team2_Defense</th>\n",
       "      <th>Team2_Offense</th>\n",
       "      <th>Team2_Midfield</th>\n",
       "    </tr>\n",
       "  </thead>\n",
       "  <tbody>\n",
       "    <tr>\n",
       "      <th>0</th>\n",
       "      <td>Bolivia</td>\n",
       "      <td>Uruguay</td>\n",
       "      <td>59</td>\n",
       "      <td>22</td>\n",
       "      <td>1</td>\n",
       "      <td>67</td>\n",
       "      <td>79</td>\n",
       "      <td>67</td>\n",
       "      <td>69</td>\n",
       "      <td>68</td>\n",
       "      <td>80</td>\n",
       "      <td>83</td>\n",
       "      <td>79</td>\n",
       "    </tr>\n",
       "    <tr>\n",
       "      <th>1</th>\n",
       "      <td>Brazil</td>\n",
       "      <td>Mexico</td>\n",
       "      <td>8</td>\n",
       "      <td>14</td>\n",
       "      <td>2</td>\n",
       "      <td>86</td>\n",
       "      <td>79</td>\n",
       "      <td>86</td>\n",
       "      <td>86</td>\n",
       "      <td>85</td>\n",
       "      <td>77</td>\n",
       "      <td>79</td>\n",
       "      <td>78</td>\n",
       "    </tr>\n",
       "    <tr>\n",
       "      <th>2</th>\n",
       "      <td>Ecuador</td>\n",
       "      <td>Venezuela</td>\n",
       "      <td>35</td>\n",
       "      <td>94</td>\n",
       "      <td>1</td>\n",
       "      <td>71</td>\n",
       "      <td>68</td>\n",
       "      <td>71</td>\n",
       "      <td>75</td>\n",
       "      <td>75</td>\n",
       "      <td>72</td>\n",
       "      <td>75</td>\n",
       "      <td>73</td>\n",
       "    </tr>\n",
       "    <tr>\n",
       "      <th>3</th>\n",
       "      <td>Paraguay</td>\n",
       "      <td>Argentina</td>\n",
       "      <td>67</td>\n",
       "      <td>5</td>\n",
       "      <td>0</td>\n",
       "      <td>74</td>\n",
       "      <td>81</td>\n",
       "      <td>75</td>\n",
       "      <td>78</td>\n",
       "      <td>74</td>\n",
       "      <td>83</td>\n",
       "      <td>88</td>\n",
       "      <td>85</td>\n",
       "    </tr>\n",
       "    <tr>\n",
       "      <th>4</th>\n",
       "      <td>Sweden</td>\n",
       "      <td>Switzerland</td>\n",
       "      <td>4</td>\n",
       "      <td>3</td>\n",
       "      <td>0</td>\n",
       "      <td>76</td>\n",
       "      <td>81</td>\n",
       "      <td>77</td>\n",
       "      <td>81</td>\n",
       "      <td>78</td>\n",
       "      <td>78</td>\n",
       "      <td>76</td>\n",
       "      <td>79</td>\n",
       "    </tr>\n",
       "  </tbody>\n",
       "</table>\n",
       "</div>"
      ],
      "text/plain": [
       "      Team1        Team2  Team1_FIFA_RANK  Team2_FIFA_RANK  Team1_Result  \\\n",
       "0   Bolivia      Uruguay               59               22             1   \n",
       "1    Brazil       Mexico                8               14             2   \n",
       "2   Ecuador    Venezuela               35               94             1   \n",
       "3  Paraguay    Argentina               67                5             0   \n",
       "4    Sweden  Switzerland                4                3             0   \n",
       "\n",
       "   Team1_Goalkeeper_Score  Team2_Goalkeeper_Score  Team1_Defense  \\\n",
       "0                      67                      79             67   \n",
       "1                      86                      79             86   \n",
       "2                      71                      68             71   \n",
       "3                      74                      81             75   \n",
       "4                      76                      81             77   \n",
       "\n",
       "   Team1_Offense  Team1_Midfield  Team2_Defense  Team2_Offense  Team2_Midfield  \n",
       "0             69              68             80             83              79  \n",
       "1             86              85             77             79              78  \n",
       "2             75              75             72             75              73  \n",
       "3             78              74             83             88              85  \n",
       "4             81              78             78             76              79  "
      ]
     },
     "execution_count": 2,
     "metadata": {},
     "output_type": "execute_result"
    }
   ],
   "source": [
    "final_df = pd.read_csv(\"ExtraData.csv\")\n",
    "final_df.head()"
   ]
  },
  {
   "cell_type": "code",
   "execution_count": 3,
   "id": "06a2e52d",
   "metadata": {},
   "outputs": [],
   "source": [
    "#previous 0-Loss, 1-Win, 2-Draw\n",
    "#Current 0-Loss, 1-Draw, 2-Win\n",
    "final_df['Team1_Result'] = final_df['Team1_Result'].map({0:0,1:2,2:1})"
   ]
  },
  {
   "cell_type": "code",
   "execution_count": 4,
   "id": "c99304da",
   "metadata": {},
   "outputs": [
    {
     "data": {
      "text/html": [
       "<div>\n",
       "<style scoped>\n",
       "    .dataframe tbody tr th:only-of-type {\n",
       "        vertical-align: middle;\n",
       "    }\n",
       "\n",
       "    .dataframe tbody tr th {\n",
       "        vertical-align: top;\n",
       "    }\n",
       "\n",
       "    .dataframe thead th {\n",
       "        text-align: right;\n",
       "    }\n",
       "</style>\n",
       "<table border=\"1\" class=\"dataframe\">\n",
       "  <thead>\n",
       "    <tr style=\"text-align: right;\">\n",
       "      <th></th>\n",
       "      <th>Team1</th>\n",
       "      <th>Team2</th>\n",
       "      <th>Team1_FIFA_RANK</th>\n",
       "      <th>Team2_FIFA_RANK</th>\n",
       "      <th>Team1_Result</th>\n",
       "      <th>Team1_Goalkeeper_Score</th>\n",
       "      <th>Team2_Goalkeeper_Score</th>\n",
       "      <th>Team1_Defense</th>\n",
       "      <th>Team1_Offense</th>\n",
       "      <th>Team1_Midfield</th>\n",
       "      <th>Team2_Defense</th>\n",
       "      <th>Team2_Offense</th>\n",
       "      <th>Team2_Midfield</th>\n",
       "    </tr>\n",
       "  </thead>\n",
       "  <tbody>\n",
       "    <tr>\n",
       "      <th>0</th>\n",
       "      <td>Bolivia</td>\n",
       "      <td>Uruguay</td>\n",
       "      <td>59</td>\n",
       "      <td>22</td>\n",
       "      <td>2</td>\n",
       "      <td>67</td>\n",
       "      <td>79</td>\n",
       "      <td>67</td>\n",
       "      <td>69</td>\n",
       "      <td>68</td>\n",
       "      <td>80</td>\n",
       "      <td>83</td>\n",
       "      <td>79</td>\n",
       "    </tr>\n",
       "    <tr>\n",
       "      <th>1</th>\n",
       "      <td>Brazil</td>\n",
       "      <td>Mexico</td>\n",
       "      <td>8</td>\n",
       "      <td>14</td>\n",
       "      <td>1</td>\n",
       "      <td>86</td>\n",
       "      <td>79</td>\n",
       "      <td>86</td>\n",
       "      <td>86</td>\n",
       "      <td>85</td>\n",
       "      <td>77</td>\n",
       "      <td>79</td>\n",
       "      <td>78</td>\n",
       "    </tr>\n",
       "    <tr>\n",
       "      <th>2</th>\n",
       "      <td>Ecuador</td>\n",
       "      <td>Venezuela</td>\n",
       "      <td>35</td>\n",
       "      <td>94</td>\n",
       "      <td>2</td>\n",
       "      <td>71</td>\n",
       "      <td>68</td>\n",
       "      <td>71</td>\n",
       "      <td>75</td>\n",
       "      <td>75</td>\n",
       "      <td>72</td>\n",
       "      <td>75</td>\n",
       "      <td>73</td>\n",
       "    </tr>\n",
       "    <tr>\n",
       "      <th>3</th>\n",
       "      <td>Paraguay</td>\n",
       "      <td>Argentina</td>\n",
       "      <td>67</td>\n",
       "      <td>5</td>\n",
       "      <td>0</td>\n",
       "      <td>74</td>\n",
       "      <td>81</td>\n",
       "      <td>75</td>\n",
       "      <td>78</td>\n",
       "      <td>74</td>\n",
       "      <td>83</td>\n",
       "      <td>88</td>\n",
       "      <td>85</td>\n",
       "    </tr>\n",
       "    <tr>\n",
       "      <th>4</th>\n",
       "      <td>Sweden</td>\n",
       "      <td>Switzerland</td>\n",
       "      <td>4</td>\n",
       "      <td>3</td>\n",
       "      <td>0</td>\n",
       "      <td>76</td>\n",
       "      <td>81</td>\n",
       "      <td>77</td>\n",
       "      <td>81</td>\n",
       "      <td>78</td>\n",
       "      <td>78</td>\n",
       "      <td>76</td>\n",
       "      <td>79</td>\n",
       "    </tr>\n",
       "  </tbody>\n",
       "</table>\n",
       "</div>"
      ],
      "text/plain": [
       "      Team1        Team2  Team1_FIFA_RANK  Team2_FIFA_RANK  Team1_Result  \\\n",
       "0   Bolivia      Uruguay               59               22             2   \n",
       "1    Brazil       Mexico                8               14             1   \n",
       "2   Ecuador    Venezuela               35               94             2   \n",
       "3  Paraguay    Argentina               67                5             0   \n",
       "4    Sweden  Switzerland                4                3             0   \n",
       "\n",
       "   Team1_Goalkeeper_Score  Team2_Goalkeeper_Score  Team1_Defense  \\\n",
       "0                      67                      79             67   \n",
       "1                      86                      79             86   \n",
       "2                      71                      68             71   \n",
       "3                      74                      81             75   \n",
       "4                      76                      81             77   \n",
       "\n",
       "   Team1_Offense  Team1_Midfield  Team2_Defense  Team2_Offense  Team2_Midfield  \n",
       "0             69              68             80             83              79  \n",
       "1             86              85             77             79              78  \n",
       "2             75              75             72             75              73  \n",
       "3             78              74             83             88              85  \n",
       "4             81              78             78             76              79  "
      ]
     },
     "execution_count": 4,
     "metadata": {},
     "output_type": "execute_result"
    }
   ],
   "source": [
    "final_df.head()"
   ]
  },
  {
   "cell_type": "markdown",
   "id": "c3766257",
   "metadata": {},
   "source": [
    "### Modelling"
   ]
  },
  {
   "cell_type": "code",
   "execution_count": 5,
   "id": "b6822cdc",
   "metadata": {},
   "outputs": [],
   "source": [
    "#Saving DF for creating a pipeline model\n",
    "pipe_DF = final_df\n",
    "#Create dummies for categorical columns to verify the accuracy percentages\n",
    "final_df = pd.get_dummies(final_df)"
   ]
  },
  {
   "cell_type": "code",
   "execution_count": 6,
   "id": "ae3da430",
   "metadata": {},
   "outputs": [],
   "source": [
    "#split X and y and train test split (For League Matches)\n",
    "X = final_df.drop('Team1_Result',axis=1)\n",
    "y = final_df['Team1_Result']"
   ]
  },
  {
   "cell_type": "code",
   "execution_count": 7,
   "id": "77f561e1",
   "metadata": {},
   "outputs": [],
   "source": [
    "from sklearn.model_selection import train_test_split\n",
    "X_train, X_val, y_train, y_val = train_test_split(X, y, test_size=0.3, random_state=42)\n",
    "#Validtion and test set\n",
    "X_hold_test, X_test, y_hold_test, y_test = train_test_split(X_val, y_val, test_size=0.5, random_state=42)"
   ]
  },
  {
   "cell_type": "code",
   "execution_count": 8,
   "id": "8fb0610a",
   "metadata": {},
   "outputs": [],
   "source": [
    "#Scaling\n",
    "from sklearn.preprocessing import StandardScaler\n",
    "scaler = StandardScaler()\n",
    "X_train = scaler.fit_transform(X_train)\n",
    "X_test = scaler.transform(X_test)\n",
    "X_hold_test = scaler.transform(X_hold_test)"
   ]
  },
  {
   "cell_type": "code",
   "execution_count": 9,
   "id": "88ead08e",
   "metadata": {},
   "outputs": [],
   "source": [
    "from sklearn.metrics import mean_absolute_error, mean_squared_error, r2_score\n",
    "def regression_metrics(model):\n",
    "    model.fit(X_train,y_train)\n",
    "    y_pred = model.predict(X_test)\n",
    "    print(\"MAE: {}\".format(mean_absolute_error(y_test,y_pred)))\n",
    "    print(\"MSE: {}\".format(np.sqrt(mean_squared_error(y_test,y_pred))))\n",
    "    print(\"R2 Score:{}\".format(r2_score(y_test,y_pred)))"
   ]
  },
  {
   "cell_type": "code",
   "execution_count": 10,
   "id": "26b2bcc2",
   "metadata": {},
   "outputs": [
    {
     "name": "stdout",
     "output_type": "stream",
     "text": [
      "MAE: 2427442596.086856\n",
      "MSE: 59852185292.395065\n",
      "R2 Score:-4.6793597738840485e+21\n"
     ]
    }
   ],
   "source": [
    "from sklearn.linear_model import LinearRegression\n",
    "regression_metrics(LinearRegression())"
   ]
  },
  {
   "cell_type": "code",
   "execution_count": 11,
   "id": "7fd9e4f4",
   "metadata": {},
   "outputs": [
    {
     "name": "stdout",
     "output_type": "stream",
     "text": [
      "MAE: 0.7073650339649624\n",
      "MSE: 1.0290298321349427\n",
      "R2 Score:-0.383191605424426\n"
     ]
    }
   ],
   "source": [
    "from sklearn.tree import DecisionTreeRegressor\n",
    "regression_metrics(DecisionTreeRegressor())"
   ]
  },
  {
   "cell_type": "code",
   "execution_count": 12,
   "id": "9f2e38b8",
   "metadata": {},
   "outputs": [
    {
     "name": "stdout",
     "output_type": "stream",
     "text": [
      "MAE: 0.6903825527350733\n",
      "MSE: 1.0185971832211547\n",
      "R2 Score:-0.35528725886441603\n"
     ]
    }
   ],
   "source": [
    "from sklearn.tree import ExtraTreeRegressor\n",
    "regression_metrics(ExtraTreeRegressor())"
   ]
  },
  {
   "cell_type": "code",
   "execution_count": 13,
   "id": "600dc41a",
   "metadata": {},
   "outputs": [
    {
     "name": "stderr",
     "output_type": "stream",
     "text": [
      "C:\\Users\\Solo\\anaconda3\\envs\\DeepLearning\\lib\\site-packages\\xgboost\\compat.py:36: FutureWarning: pandas.Int64Index is deprecated and will be removed from pandas in a future version. Use pandas.Index with the appropriate dtype instead.\n",
      "  from pandas import MultiIndex, Int64Index\n"
     ]
    },
    {
     "name": "stdout",
     "output_type": "stream",
     "text": [
      "MAE: 0.6142956649895902\n",
      "MSE: 0.7348827883476061\n",
      "R2 Score:0.29455596493447467\n"
     ]
    }
   ],
   "source": [
    "from xgboost import XGBRegressor\n",
    "regression_metrics(XGBRegressor(learning_rate=0.1))"
   ]
  },
  {
   "cell_type": "code",
   "execution_count": 14,
   "id": "cfdb6747",
   "metadata": {},
   "outputs": [
    {
     "name": "stdout",
     "output_type": "stream",
     "text": [
      "MAE: 0.6951499895812254\n",
      "MSE: 0.7817269359570289\n",
      "R2 Score:0.2017543378182869\n"
     ]
    }
   ],
   "source": [
    "from sklearn.linear_model import ElasticNet\n",
    "regression_metrics(ElasticNet(l1_ratio=0.1))"
   ]
  },
  {
   "cell_type": "code",
   "execution_count": 15,
   "id": "79e3d7c0",
   "metadata": {},
   "outputs": [
    {
     "name": "stdout",
     "output_type": "stream",
     "text": [
      "MAE: 0.6153859444889038\n",
      "MSE: 0.7363347468961507\n",
      "R2 Score:0.29176562236741577\n"
     ]
    }
   ],
   "source": [
    "from sklearn.linear_model import Ridge\n",
    "regression_metrics(Ridge())"
   ]
  },
  {
   "cell_type": "code",
   "execution_count": 16,
   "id": "b03afea4",
   "metadata": {},
   "outputs": [
    {
     "name": "stdout",
     "output_type": "stream",
     "text": [
      "MAE: 0.6188580735595394\n",
      "MSE: 0.7576810965438167\n",
      "R2 Score:0.25010696818519007\n"
     ]
    }
   ],
   "source": [
    "from sklearn.ensemble import AdaBoostRegressor, ExtraTreesRegressor, GradientBoostingRegressor, RandomForestRegressor\n",
    "regression_metrics(RandomForestRegressor())"
   ]
  },
  {
   "cell_type": "code",
   "execution_count": 17,
   "id": "9edc3d5e",
   "metadata": {},
   "outputs": [
    {
     "name": "stdout",
     "output_type": "stream",
     "text": [
      "MAE: 0.674502681419323\n",
      "MSE: 0.7599358628082905\n",
      "R2 Score:0.24563714737356712\n"
     ]
    }
   ],
   "source": [
    "regression_metrics(AdaBoostRegressor())"
   ]
  },
  {
   "cell_type": "code",
   "execution_count": 18,
   "id": "e84a1f95",
   "metadata": {},
   "outputs": [
    {
     "name": "stdout",
     "output_type": "stream",
     "text": [
      "MAE: 0.6183827910856871\n",
      "MSE: 0.7927025763601311\n",
      "R2 Score:0.17918184594026854\n"
     ]
    }
   ],
   "source": [
    "regression_metrics(ExtraTreesRegressor())"
   ]
  },
  {
   "cell_type": "code",
   "execution_count": 19,
   "id": "2c4ee362",
   "metadata": {},
   "outputs": [
    {
     "name": "stdout",
     "output_type": "stream",
     "text": [
      "MAE: 0.6211769642748117\n",
      "MSE: 0.7338728998656849\n",
      "R2 Score:0.296493499211253\n"
     ]
    }
   ],
   "source": [
    "regression_metrics(GradientBoostingRegressor())"
   ]
  },
  {
   "cell_type": "code",
   "execution_count": 20,
   "id": "cea8bb73",
   "metadata": {},
   "outputs": [],
   "source": [
    "#Initial impression with model - GradientBoostRegressor performed well than others, so we can validate with the holdout test"
   ]
  },
  {
   "cell_type": "code",
   "execution_count": 21,
   "id": "8db6963c",
   "metadata": {},
   "outputs": [
    {
     "name": "stdout",
     "output_type": "stream",
     "text": [
      "MAE: 0.6330127667264316\n",
      "MSE: 0.7441144972465171\n",
      "R2 Score:0.298998165694885\n"
     ]
    }
   ],
   "source": [
    "model = GradientBoostingRegressor()\n",
    "model.fit(X_train, y_train)\n",
    "y_pred = model.predict(X_hold_test)\n",
    "print(\"MAE: {}\".format(mean_absolute_error(y_hold_test,y_pred)))\n",
    "print(\"MSE: {}\".format(np.sqrt(mean_squared_error(y_hold_test,y_pred))))\n",
    "print(\"R2 Score:{}\".format(r2_score(y_hold_test,y_pred)))"
   ]
  },
  {
   "cell_type": "code",
   "execution_count": 22,
   "id": "eac4eaad",
   "metadata": {},
   "outputs": [
    {
     "name": "stdout",
     "output_type": "stream",
     "text": [
      "-0.03971111801095273\n",
      "2.0827801640822705\n"
     ]
    }
   ],
   "source": [
    "#find the min and max value of prediction\n",
    "print(y_pred.min())\n",
    "print(y_pred.max())\n",
    "\n",
    "#Minimum and maximum values pretty much within our range."
   ]
  },
  {
   "cell_type": "code",
   "execution_count": 23,
   "id": "d1a2cb1e",
   "metadata": {},
   "outputs": [],
   "source": [
    "#Optionally we can clip the output data and verify the accuracy score and classification report using Classification models\n",
    "y_clipped = np.clip(y_pred,0,2)\n",
    "\n",
    "#Split probabilty equally to determine the win, lose or Draw 0-0.75 -> Loss(0), 0.76-1.25 ->Draw(1), 1.26-2 ->Win(2)\n",
    "def probs(testvalue):\n",
    "    if(testvalue >= 0 and testvalue<=0.75):\n",
    "        return \"0\"\n",
    "    if(testvalue >= 0.76 and testvalue<=1.25):\n",
    "        return \"1\"\n",
    "    else:\n",
    "        return \"2\""
   ]
  },
  {
   "cell_type": "code",
   "execution_count": 24,
   "id": "2dfa1dec",
   "metadata": {},
   "outputs": [],
   "source": [
    "y_pred_classification = np.vectorize(probs)(y_clipped)\n",
    "y_pred_classification = y_pred_classification.astype(int)"
   ]
  },
  {
   "cell_type": "code",
   "execution_count": 25,
   "id": "3664a84f",
   "metadata": {},
   "outputs": [
    {
     "name": "stdout",
     "output_type": "stream",
     "text": [
      "              precision    recall  f1-score   support\n",
      "\n",
      "           0       0.68      0.60      0.64      1045\n",
      "           1       0.26      0.40      0.32       582\n",
      "           2       0.70      0.58      0.64      1169\n",
      "\n",
      "    accuracy                           0.55      2796\n",
      "   macro avg       0.55      0.53      0.53      2796\n",
      "weighted avg       0.60      0.55      0.57      2796\n",
      "\n"
     ]
    },
    {
     "data": {
      "text/plain": [
       "<sklearn.metrics._plot.confusion_matrix.ConfusionMatrixDisplay at 0x1b4a2ab9f10>"
      ]
     },
     "execution_count": 25,
     "metadata": {},
     "output_type": "execute_result"
    },
    {
     "data": {
      "image/png": "[encoded data removed]",
      "text/plain": [
       "<Figure size 640x480 with 2 Axes>"
      ]
     },
     "metadata": {},
     "output_type": "display_data"
    }
   ],
   "source": [
    "from sklearn.metrics import classification_report, ConfusionMatrixDisplay\n",
    "print(classification_report(y_hold_test, y_pred_classification))\n",
    "ConfusionMatrixDisplay.from_predictions(y_hold_test, y_pred_classification)"
   ]
  },
  {
   "cell_type": "markdown",
   "id": "6ab6259b",
   "metadata": {},
   "source": [
    "### Creating pipeline model for League matches"
   ]
  },
  {
   "cell_type": "code",
   "execution_count": 26,
   "id": "3406f761",
   "metadata": {},
   "outputs": [],
   "source": [
    "from sklearn.preprocessing import OneHotEncoder\n",
    "from sklearn.compose import make_column_transformer\n",
    "column_trans = make_column_transformer(\n",
    "    (OneHotEncoder(),['Team1', 'Team2']),remainder='passthrough')"
   ]
  },
  {
   "cell_type": "code",
   "execution_count": 27,
   "id": "4154aa7f",
   "metadata": {},
   "outputs": [],
   "source": [
    "pipe_X = pipe_DF.drop('Team1_Result',axis=1)\n",
    "pipe_y = pipe_DF['Team1_Result']"
   ]
  },
  {
   "cell_type": "code",
   "execution_count": 28,
   "id": "b01024ab",
   "metadata": {},
   "outputs": [
    {
     "data": {
      "text/plain": [
       "Pipeline(steps=[('columntransformer',\n",
       "                 ColumnTransformer(remainder='passthrough',\n",
       "                                   transformers=[('onehotencoder',\n",
       "                                                  OneHotEncoder(),\n",
       "                                                  ['Team1', 'Team2'])])),\n",
       "                ('standardscaler', StandardScaler(with_mean=False)),\n",
       "                ('gradientboostingregressor', GradientBoostingRegressor())])"
      ]
     },
     "execution_count": 28,
     "metadata": {},
     "output_type": "execute_result"
    }
   ],
   "source": [
    "from sklearn.pipeline import make_pipeline\n",
    "pipe_League = make_pipeline(column_trans,StandardScaler(with_mean=False),GradientBoostingRegressor())\n",
    "pipe_League.fit(pipe_X,pipe_y)"
   ]
  },
  {
   "cell_type": "markdown",
   "id": "c28363d3",
   "metadata": {},
   "source": [
    "#### Saving the league model"
   ]
  },
  {
   "cell_type": "code",
   "execution_count": 29,
   "id": "2acbb991",
   "metadata": {},
   "outputs": [
    {
     "data": {
      "text/plain": [
       "['League_model_regression.pkl']"
      ]
     },
     "execution_count": 29,
     "metadata": {},
     "output_type": "execute_result"
    }
   ],
   "source": [
    "import joblib\n",
    "joblib.dump(pipe_League,\"League_model_regression.pkl\")"
   ]
  },
  {
   "cell_type": "markdown",
   "id": "be41cb88",
   "metadata": {},
   "source": [
    "### Modelling Knockout model"
   ]
  },
  {
   "cell_type": "code",
   "execution_count": 30,
   "id": "38df1660",
   "metadata": {},
   "outputs": [],
   "source": [
    "#Predictions for Knockout Stage - Removing Draw status\n",
    "knock_df = pipe_DF[pipe_DF['Team1_Result'] != 1]"
   ]
  },
  {
   "cell_type": "code",
   "execution_count": 31,
   "id": "b2f31e91",
   "metadata": {},
   "outputs": [
    {
     "name": "stderr",
     "output_type": "stream",
     "text": [
      "C:\\Users\\Solo\\AppData\\Local\\Temp\\ipykernel_7236\\3542088693.py:3: SettingWithCopyWarning: \n",
      "A value is trying to be set on a copy of a slice from a DataFrame.\n",
      "Try using .loc[row_indexer,col_indexer] = value instead\n",
      "\n",
      "See the caveats in the documentation: https://pandas.pydata.org/pandas-docs/stable/user_guide/indexing.html#returning-a-view-versus-a-copy\n",
      "  knock_df['Team1_Result'] = knock_df['Team1_Result'].map({0:0,2:1})\n"
     ]
    }
   ],
   "source": [
    "#previous 0-Loss, 2-Win\n",
    "#Current 0-Loss, 1-Win\n",
    "knock_df['Team1_Result'] = knock_df['Team1_Result'].map({0:0,2:1})"
   ]
  },
  {
   "cell_type": "code",
   "execution_count": 32,
   "id": "3bde7284",
   "metadata": {},
   "outputs": [],
   "source": [
    "pipe_knock_df = knock_df\n",
    "knock_df = pd.get_dummies(knock_df)\n",
    "X = knock_df.drop('Team1_Result',axis=1)\n",
    "y = knock_df['Team1_Result']\n",
    "\n",
    "X_train, X_val, y_train, y_val = train_test_split(X, y, test_size=0.3, random_state=42)\n",
    "X_hold_test, X_test, y_hold_test, y_test = train_test_split(X_val, y_val, test_size=0.5, random_state=42)"
   ]
  },
  {
   "cell_type": "code",
   "execution_count": 33,
   "id": "cf83820d",
   "metadata": {},
   "outputs": [
    {
     "name": "stdout",
     "output_type": "stream",
     "text": [
      "MAE: 8386087.262294708\n",
      "MSE: 229158521.316794\n",
      "R2 Score:-2.100545563826659e+17\n"
     ]
    }
   ],
   "source": [
    "regression_metrics(LinearRegression())"
   ]
  },
  {
   "cell_type": "code",
   "execution_count": 34,
   "id": "b840b6b7",
   "metadata": {},
   "outputs": [
    {
     "name": "stdout",
     "output_type": "stream",
     "text": [
      "MAE: 0.2969976905311778\n",
      "MSE: 0.5443389108676014\n",
      "R2 Score:-0.18521965239979976\n"
     ]
    }
   ],
   "source": [
    "regression_metrics(DecisionTreeRegressor())"
   ]
  },
  {
   "cell_type": "code",
   "execution_count": 35,
   "id": "4afed9c4",
   "metadata": {},
   "outputs": [
    {
     "name": "stdout",
     "output_type": "stream",
     "text": [
      "MAE: 0.3087759815242494\n",
      "MSE: 0.5551563872628205\n",
      "R2 Score:-0.23279472028646375\n"
     ]
    }
   ],
   "source": [
    "regression_metrics(ExtraTreeRegressor())"
   ]
  },
  {
   "cell_type": "code",
   "execution_count": 36,
   "id": "8d787b3a",
   "metadata": {},
   "outputs": [
    {
     "name": "stderr",
     "output_type": "stream",
     "text": [
      "C:\\Users\\Solo\\anaconda3\\envs\\DeepLearning\\lib\\site-packages\\xgboost\\data.py:250: FutureWarning: pandas.Int64Index is deprecated and will be removed from pandas in a future version. Use pandas.Index with the appropriate dtype instead.\n",
      "  elif isinstance(data.columns, (pd.Int64Index, pd.RangeIndex)):\n"
     ]
    },
    {
     "name": "stdout",
     "output_type": "stream",
     "text": [
      "MAE: 0.322700008170762\n",
      "MSE: 0.41234985124750095\n",
      "R2 Score:0.31987025560179727\n"
     ]
    }
   ],
   "source": [
    "regression_metrics(XGBRegressor(learning_rate=0.1))"
   ]
  },
  {
   "cell_type": "code",
   "execution_count": 37,
   "id": "6c1640eb",
   "metadata": {},
   "outputs": [
    {
     "name": "stdout",
     "output_type": "stream",
     "text": [
      "MAE: 0.36949809768745434\n",
      "MSE: 0.41977058269943707\n",
      "R2 Score:0.29517048122824785\n"
     ]
    }
   ],
   "source": [
    "regression_metrics(ElasticNet(l1_ratio=0.1))"
   ]
  },
  {
   "cell_type": "code",
   "execution_count": 38,
   "id": "f7a438ff",
   "metadata": {},
   "outputs": [
    {
     "name": "stdout",
     "output_type": "stream",
     "text": [
      "MAE: 0.33584146226217626\n",
      "MSE: 0.4086574195069035\n",
      "R2 Score:0.33199631141202035\n"
     ]
    }
   ],
   "source": [
    "regression_metrics(Ridge())"
   ]
  },
  {
   "cell_type": "code",
   "execution_count": 39,
   "id": "62f13db4",
   "metadata": {},
   "outputs": [
    {
     "name": "stdout",
     "output_type": "stream",
     "text": [
      "MAE: 0.32028903552182997\n",
      "MSE: 0.42446513614832737\n",
      "R2 Score:0.2793172390236518\n"
     ]
    }
   ],
   "source": [
    "regression_metrics(RandomForestRegressor())"
   ]
  },
  {
   "cell_type": "code",
   "execution_count": 40,
   "id": "c5eea472",
   "metadata": {},
   "outputs": [
    {
     "name": "stdout",
     "output_type": "stream",
     "text": [
      "MAE: 0.3768782617306289\n",
      "MSE: 0.42501553067560843\n",
      "R2 Score:0.2774470405844488\n"
     ]
    }
   ],
   "source": [
    "regression_metrics(AdaBoostRegressor())"
   ]
  },
  {
   "cell_type": "code",
   "execution_count": 41,
   "id": "6b5a36f2",
   "metadata": {},
   "outputs": [
    {
     "name": "stdout",
     "output_type": "stream",
     "text": [
      "MAE: 0.3112286374133949\n",
      "MSE: 0.4408639691117544\n",
      "R2 Score:0.22255567709160073\n"
     ]
    }
   ],
   "source": [
    "regression_metrics(ExtraTreesRegressor())"
   ]
  },
  {
   "cell_type": "code",
   "execution_count": 42,
   "id": "2a86dca0",
   "metadata": {},
   "outputs": [
    {
     "name": "stdout",
     "output_type": "stream",
     "text": [
      "MAE: 0.32999672735458035\n",
      "MSE: 0.4092936722702384\n",
      "R2 Score:0.32991461639823527\n"
     ]
    }
   ],
   "source": [
    "regression_metrics(GradientBoostingRegressor())"
   ]
  },
  {
   "cell_type": "code",
   "execution_count": 43,
   "id": "fca060ed",
   "metadata": {},
   "outputs": [],
   "source": [
    "#Initial impression with model - GradientBoostingRegressor performed well than others, so we can validate with the holdout test"
   ]
  },
  {
   "cell_type": "code",
   "execution_count": 44,
   "id": "db24ff38",
   "metadata": {},
   "outputs": [
    {
     "name": "stdout",
     "output_type": "stream",
     "text": [
      "MAE: 0.3219687901752654\n",
      "MSE: 0.39931962393176296\n",
      "R2 Score:0.36217535177198157\n"
     ]
    }
   ],
   "source": [
    "model = GradientBoostingRegressor()\n",
    "model.fit(X_train, y_train)\n",
    "y_pred = model.predict(X_hold_test)\n",
    "print(\"MAE: {}\".format(mean_absolute_error(y_hold_test,y_pred)))\n",
    "print(\"MSE: {}\".format(np.sqrt(mean_squared_error(y_hold_test,y_pred))))\n",
    "print(\"R2 Score:{}\".format(r2_score(y_hold_test,y_pred)))"
   ]
  },
  {
   "cell_type": "code",
   "execution_count": 45,
   "id": "a64ca8e8",
   "metadata": {},
   "outputs": [
    {
     "name": "stdout",
     "output_type": "stream",
     "text": [
      "-0.029762321967135706\n",
      "1.075627034377782\n"
     ]
    }
   ],
   "source": [
    "#find the min and max value of prediction\n",
    "print(y_pred.min())\n",
    "print(y_pred.max())\n",
    "\n",
    "#Minimum and maximum values pretty much within our range."
   ]
  },
  {
   "cell_type": "code",
   "execution_count": 46,
   "id": "0f5967e2",
   "metadata": {},
   "outputs": [],
   "source": [
    "#Optionally we can clip the output data and verify the accuracy score and classification report using Classification models\n",
    "y_clipped = np.clip(y_pred,0,2)\n",
    "\n",
    "#Split probabilty equally to determine the win, lose or Draw 0-0.5 -> Loss(0), 0.51-1 ->Win(1)\n",
    "def probs(testvalue):\n",
    "    if(testvalue >= 0 and testvalue<=0.5):\n",
    "        return \"0\"\n",
    "    else:\n",
    "        return \"1\""
   ]
  },
  {
   "cell_type": "code",
   "execution_count": 47,
   "id": "5e6ba091",
   "metadata": {},
   "outputs": [
    {
     "name": "stdout",
     "output_type": "stream",
     "text": [
      "              precision    recall  f1-score   support\n",
      "\n",
      "           0       0.77      0.76      0.77      1082\n",
      "           1       0.76      0.78      0.77      1082\n",
      "\n",
      "    accuracy                           0.77      2164\n",
      "   macro avg       0.77      0.77      0.77      2164\n",
      "weighted avg       0.77      0.77      0.77      2164\n",
      "\n"
     ]
    },
    {
     "data": {
      "text/plain": [
       "<sklearn.metrics._plot.confusion_matrix.ConfusionMatrixDisplay at 0x1b4b04a37c0>"
      ]
     },
     "execution_count": 47,
     "metadata": {},
     "output_type": "execute_result"
    },
    {
     "data": {
      "image/png": "[encoded data removed]",
      "text/plain": [
       "<Figure size 640x480 with 2 Axes>"
      ]
     },
     "metadata": {},
     "output_type": "display_data"
    }
   ],
   "source": [
    "y_pred_classification = np.vectorize(probs)(y_clipped)\n",
    "y_pred_classification = y_pred_classification.astype(int)\n",
    "print(classification_report(y_hold_test, y_pred_classification))\n",
    "ConfusionMatrixDisplay.from_predictions(y_hold_test, y_pred_classification)"
   ]
  },
  {
   "cell_type": "markdown",
   "id": "ea59746b",
   "metadata": {},
   "source": [
    "### Creating pipeline model for Knockout matches"
   ]
  },
  {
   "cell_type": "code",
   "execution_count": 48,
   "id": "48c256b6",
   "metadata": {},
   "outputs": [
    {
     "data": {
      "text/plain": [
       "Pipeline(steps=[('columntransformer',\n",
       "                 ColumnTransformer(remainder='passthrough',\n",
       "                                   transformers=[('onehotencoder',\n",
       "                                                  OneHotEncoder(),\n",
       "                                                  ['Team1', 'Team2'])])),\n",
       "                ('standardscaler', StandardScaler(with_mean=False)),\n",
       "                ('gradientboostingregressor', GradientBoostingRegressor())])"
      ]
     },
     "execution_count": 48,
     "metadata": {},
     "output_type": "execute_result"
    }
   ],
   "source": [
    "pipe_X = pipe_knock_df.drop('Team1_Result',axis=1)\n",
    "pipe_y = pipe_knock_df['Team1_Result']\n",
    "pipe_knock = make_pipeline(column_trans,StandardScaler(with_mean=False),GradientBoostingRegressor())\n",
    "pipe_knock.fit(pipe_X,pipe_y)"
   ]
  },
  {
   "cell_type": "markdown",
   "id": "31c858e8",
   "metadata": {},
   "source": [
    "#### Saving knockout model"
   ]
  },
  {
   "cell_type": "code",
   "execution_count": 49,
   "id": "13b97622",
   "metadata": {},
   "outputs": [
    {
     "data": {
      "text/plain": [
       "['KnockOut_model_regression.pkl']"
      ]
     },
     "execution_count": 49,
     "metadata": {},
     "output_type": "execute_result"
    }
   ],
   "source": [
    "joblib.dump(pipe_knock,\"KnockOut_model_regression.pkl\")"
   ]
  },
  {
   "cell_type": "markdown",
   "id": "431c8bb7",
   "metadata": {},
   "source": [
    "# SIMULATOR"
   ]
  },
  {
   "cell_type": "markdown",
   "id": "1361a0dc",
   "metadata": {},
   "source": [
    "#### Load League, knockout models and column names"
   ]
  },
  {
   "cell_type": "code",
   "execution_count": 50,
   "id": "125b72f4",
   "metadata": {},
   "outputs": [],
   "source": [
    "league_model = joblib.load(\"League_model_regression.pkl\")\n",
    "knockout_model = joblib.load(\"KnockOut_model_regression.pkl\")\n",
    "col_names = joblib.load(\"col_names.pkl\")"
   ]
  },
  {
   "cell_type": "markdown",
   "id": "1cffc1a3",
   "metadata": {},
   "source": [
    "#### Load current fifa rankings file"
   ]
  },
  {
   "cell_type": "code",
   "execution_count": 51,
   "id": "5b91dbbd",
   "metadata": {},
   "outputs": [
    {
     "data": {
      "text/html": [
       "<div>\n",
       "<style scoped>\n",
       "    .dataframe tbody tr th:only-of-type {\n",
       "        vertical-align: middle;\n",
       "    }\n",
       "\n",
       "    .dataframe tbody tr th {\n",
       "        vertical-align: top;\n",
       "    }\n",
       "\n",
       "    .dataframe thead th {\n",
       "        text-align: right;\n",
       "    }\n",
       "</style>\n",
       "<table border=\"1\" class=\"dataframe\">\n",
       "  <thead>\n",
       "    <tr style=\"text-align: right;\">\n",
       "      <th></th>\n",
       "      <th>Team</th>\n",
       "      <th>Rank</th>\n",
       "      <th>GK</th>\n",
       "      <th>DEF</th>\n",
       "      <th>ATT</th>\n",
       "      <th>MID</th>\n",
       "    </tr>\n",
       "  </thead>\n",
       "  <tbody>\n",
       "    <tr>\n",
       "      <th>0</th>\n",
       "      <td>Brazil</td>\n",
       "      <td>1</td>\n",
       "      <td>89.0</td>\n",
       "      <td>84.8</td>\n",
       "      <td>86.3</td>\n",
       "      <td>85.5</td>\n",
       "    </tr>\n",
       "    <tr>\n",
       "      <th>1</th>\n",
       "      <td>Belgium</td>\n",
       "      <td>2</td>\n",
       "      <td>89.0</td>\n",
       "      <td>80.8</td>\n",
       "      <td>85.7</td>\n",
       "      <td>85.5</td>\n",
       "    </tr>\n",
       "    <tr>\n",
       "      <th>2</th>\n",
       "      <td>France</td>\n",
       "      <td>3</td>\n",
       "      <td>87.0</td>\n",
       "      <td>84.2</td>\n",
       "      <td>88.3</td>\n",
       "      <td>86.8</td>\n",
       "    </tr>\n",
       "    <tr>\n",
       "      <th>3</th>\n",
       "      <td>Argentina</td>\n",
       "      <td>4</td>\n",
       "      <td>84.0</td>\n",
       "      <td>82.2</td>\n",
       "      <td>89.0</td>\n",
       "      <td>84.0</td>\n",
       "    </tr>\n",
       "    <tr>\n",
       "      <th>4</th>\n",
       "      <td>England</td>\n",
       "      <td>5</td>\n",
       "      <td>83.0</td>\n",
       "      <td>85.0</td>\n",
       "      <td>88.0</td>\n",
       "      <td>84.0</td>\n",
       "    </tr>\n",
       "  </tbody>\n",
       "</table>\n",
       "</div>"
      ],
      "text/plain": [
       "        Team  Rank    GK   DEF   ATT   MID\n",
       "0     Brazil     1  89.0  84.8  86.3  85.5\n",
       "1    Belgium     2  89.0  80.8  85.7  85.5\n",
       "2     France     3  87.0  84.2  88.3  86.8\n",
       "3  Argentina     4  84.0  82.2  89.0  84.0\n",
       "4    England     5  83.0  85.0  88.0  84.0"
      ]
     },
     "execution_count": 51,
     "metadata": {},
     "output_type": "execute_result"
    }
   ],
   "source": [
    "rankings = pd.read_csv(\"FifaRankings.csv\")\n",
    "rankings.head()"
   ]
  },
  {
   "cell_type": "markdown",
   "id": "c69d65b3",
   "metadata": {},
   "source": [
    "#### Create a function to return dataframe of values when we input Team1 and Team2"
   ]
  },
  {
   "cell_type": "code",
   "execution_count": 52,
   "id": "3c3a59e2",
   "metadata": {},
   "outputs": [],
   "source": [
    "def TeamList(Team1, Team2):\n",
    "    Team1_FIFA_RANK = rankings[rankings[\"Team\"] == Team1]['Rank'].to_list()[0]\n",
    "    Team2_FIFA_RANK = rankings[rankings[\"Team\"] == Team2]['Rank'].to_list()[0]\n",
    "    Team1_Goalkeeper_Score = rankings[rankings[\"Team\"] == Team1]['GK'].to_list()[0]\n",
    "    Team1_Defense = rankings[rankings[\"Team\"] == Team1]['DEF'].to_list()[0]\n",
    "    Team1_Offense = rankings[rankings[\"Team\"] == Team1]['ATT'].to_list()[0]\n",
    "    Team1_Midfield = rankings[rankings[\"Team\"] == Team1]['MID'].to_list()[0]\n",
    "    Team2_Goalkeeper_Score = rankings[rankings[\"Team\"] == Team2]['GK'].to_list()[0]\n",
    "    Team2_Defense = rankings[rankings[\"Team\"] == Team2]['DEF'].to_list()[0]\n",
    "    Team2_Offense = rankings[rankings[\"Team\"] == Team2]['ATT'].to_list()[0]\n",
    "    Team2_Midfield = rankings[rankings[\"Team\"] == Team2]['MID'].to_list()[0]\n",
    "    list_value = [[Team1, Team2, Team1_FIFA_RANK, Team2_FIFA_RANK, Team1_Goalkeeper_Score, Team2_Goalkeeper_Score, Team1_Defense, Team1_Offense, Team1_Midfield, Team2_Defense, Team2_Offense, Team2_Midfield]]\n",
    "    df = pd.DataFrame(data=list_value,columns=col_names)\n",
    "    return df"
   ]
  },
  {
   "cell_type": "code",
   "execution_count": 53,
   "id": "a9c224fe",
   "metadata": {},
   "outputs": [
    {
     "data": {
      "text/html": [
       "<div>\n",
       "<style scoped>\n",
       "    .dataframe tbody tr th:only-of-type {\n",
       "        vertical-align: middle;\n",
       "    }\n",
       "\n",
       "    .dataframe tbody tr th {\n",
       "        vertical-align: top;\n",
       "    }\n",
       "\n",
       "    .dataframe thead th {\n",
       "        text-align: right;\n",
       "    }\n",
       "</style>\n",
       "<table border=\"1\" class=\"dataframe\">\n",
       "  <thead>\n",
       "    <tr style=\"text-align: right;\">\n",
       "      <th></th>\n",
       "      <th>Team1</th>\n",
       "      <th>Team2</th>\n",
       "      <th>Team1_FIFA_RANK</th>\n",
       "      <th>Team2_FIFA_RANK</th>\n",
       "      <th>Team1_Goalkeeper_Score</th>\n",
       "      <th>Team2_Goalkeeper_Score</th>\n",
       "      <th>Team1_Defense</th>\n",
       "      <th>Team1_Offense</th>\n",
       "      <th>Team1_Midfield</th>\n",
       "      <th>Team2_Defense</th>\n",
       "      <th>Team2_Offense</th>\n",
       "      <th>Team2_Midfield</th>\n",
       "    </tr>\n",
       "  </thead>\n",
       "  <tbody>\n",
       "    <tr>\n",
       "      <th>0</th>\n",
       "      <td>Brazil</td>\n",
       "      <td>Spain</td>\n",
       "      <td>1</td>\n",
       "      <td>7</td>\n",
       "      <td>89.0</td>\n",
       "      <td>84.0</td>\n",
       "      <td>84.8</td>\n",
       "      <td>86.3</td>\n",
       "      <td>85.5</td>\n",
       "      <td>86.5</td>\n",
       "      <td>85.0</td>\n",
       "      <td>86.0</td>\n",
       "    </tr>\n",
       "  </tbody>\n",
       "</table>\n",
       "</div>"
      ],
      "text/plain": [
       "    Team1  Team2  Team1_FIFA_RANK  Team2_FIFA_RANK  Team1_Goalkeeper_Score  \\\n",
       "0  Brazil  Spain                1                7                    89.0   \n",
       "\n",
       "   Team2_Goalkeeper_Score  Team1_Defense  Team1_Offense  Team1_Midfield  \\\n",
       "0                    84.0           84.8           86.3            85.5   \n",
       "\n",
       "   Team2_Defense  Team2_Offense  Team2_Midfield  \n",
       "0           86.5           85.0            86.0  "
      ]
     },
     "execution_count": 53,
     "metadata": {},
     "output_type": "execute_result"
    }
   ],
   "source": [
    "#Checking the function is working fine\n",
    "TeamList(\"Brazil\", \"Spain\")"
   ]
  },
  {
   "cell_type": "markdown",
   "id": "95be24ab",
   "metadata": {},
   "source": [
    "### Creating a function to return the League match result when Team1 and Team2 are inputed"
   ]
  },
  {
   "cell_type": "code",
   "execution_count": 54,
   "id": "82474c0b",
   "metadata": {},
   "outputs": [],
   "source": [
    "#Team 1 0-Loss, 1-Draw, 2-Win\n",
    "def league_model_result(Team1, Team2):\n",
    "    result = league_model.predict(TeamList(Team1,Team2))\n",
    "    result = np.clip(result,0,2)\n",
    "    if result >= 0 and result<=0.75:\n",
    "        return Team2, 2-result[0]\n",
    "    if result >= 0.76 and result<=1.25:\n",
    "        return \"Draw\", result[0]\n",
    "    else:\n",
    "        return Team1, result[0]"
   ]
  },
  {
   "cell_type": "code",
   "execution_count": 55,
   "id": "8b8ddd40",
   "metadata": {},
   "outputs": [
    {
     "data": {
      "text/plain": [
       "('Draw', 1.1012924480905317)"
      ]
     },
     "execution_count": 55,
     "metadata": {},
     "output_type": "execute_result"
    }
   ],
   "source": [
    "# checking if the function is working fine\n",
    "league_model_result(\"Spain\", \"Argentina\")"
   ]
  },
  {
   "cell_type": "code",
   "execution_count": 56,
   "id": "0822d393",
   "metadata": {},
   "outputs": [
    {
     "data": {
      "text/plain": [
       "('Brazil', 1.6102421789277144)"
      ]
     },
     "execution_count": 56,
     "metadata": {},
     "output_type": "execute_result"
    }
   ],
   "source": [
    "league_model_result(\"Japan\", \"Brazil\")"
   ]
  },
  {
   "cell_type": "markdown",
   "id": "19468279",
   "metadata": {},
   "source": [
    "### Creating a function to return the Knockout match result when Team1 and Team2 are inputed"
   ]
  },
  {
   "cell_type": "code",
   "execution_count": 57,
   "id": "b8133d35",
   "metadata": {},
   "outputs": [],
   "source": [
    "#Team1 - 'Win':1,'Lose':0\n",
    "def knockout_result(Team1, Team2):\n",
    "    result = knockout_model.predict(TeamList(Team1, Team2))\n",
    "    result = np.clip(result,0,2)\n",
    "    if result >= 0 and result<=0.5:\n",
    "        return Team2, 1-result[0]\n",
    "    else:\n",
    "        return Team1, result[0]"
   ]
  },
  {
   "cell_type": "code",
   "execution_count": 58,
   "id": "411ab66c",
   "metadata": {},
   "outputs": [
    {
     "data": {
      "text/plain": [
       "('France', 0.5207261842467357)"
      ]
     },
     "execution_count": 58,
     "metadata": {},
     "output_type": "execute_result"
    }
   ],
   "source": [
    "# checking if the function is working fine\n",
    "knockout_result(\"France\", \"Brazil\")"
   ]
  },
  {
   "cell_type": "code",
   "execution_count": 59,
   "id": "2cf06378",
   "metadata": {},
   "outputs": [
    {
     "data": {
      "text/plain": [
       "('Brazil', 0.5781140710647121)"
      ]
     },
     "execution_count": 59,
     "metadata": {},
     "output_type": "execute_result"
    }
   ],
   "source": [
    "knockout_result(\"Argentina\", \"Brazil\")"
   ]
  },
  {
   "cell_type": "markdown",
   "id": "2d045cea",
   "metadata": {},
   "source": [
    "## Simulating League Rounds"
   ]
  },
  {
   "cell_type": "markdown",
   "id": "527b48c8",
   "metadata": {},
   "source": [
    "### Function to simulate league round - All teams in the group will play against all other teams in the group and top 2 will be considered as winner"
   ]
  },
  {
   "cell_type": "code",
   "execution_count": 60,
   "id": "9eda190b",
   "metadata": {},
   "outputs": [],
   "source": [
    "def League_round(Team1, Team2, Team3, Team4):\n",
    "    match1 = league_model_result(Team1, Team2)\n",
    "    match2 = league_model_result(Team1, Team3)\n",
    "    match3 = league_model_result(Team1, Team4)\n",
    "    match4 = league_model_result(Team2, Team3)\n",
    "    match5 = league_model_result(Team2, Team4)\n",
    "    match6 = league_model_result(Team3, Team4)\n",
    "    Points = [match1[0],match2[0],match3[0],match4[0],match5[0],match6[0]]\n",
    "    Team1_points = Points.count(Team1) * 3\n",
    "    Team2_points = Points.count(Team2) * 3\n",
    "    Team3_points = Points.count(Team3) * 3\n",
    "    Team4_points = Points.count(Team4) * 3\n",
    "    if match1 == \"Draw\":\n",
    "        Team1_points,Team2_points = Team1_points+1,Team2_points+1\n",
    "    if match2 == \"Draw\":\n",
    "        Team1_points,Team3_points = Team1_points+1,Team3_points+1\n",
    "    if match3 == \"Draw\":\n",
    "        Team1_points,Team4_points = Team1_points+1,Team4_points+1\n",
    "    if match4 == \"Draw\":\n",
    "        Team2_points,Team3_points = Team2_points+1,Team3_points+1\n",
    "    if match5 == \"Draw\":\n",
    "        Team2_points,Team4_points = Team2_points+1,Team4_points+1\n",
    "    if match6 == \"Draw\":\n",
    "        Team3_points,Team4_points = Team3_points+1,Team4_points+1\n",
    "    dict = {Team1:Team1_points,Team2:Team2_points,Team3:Team3_points,Team4:Team4_points}\n",
    "    grp_winners = pd.DataFrame(list(dict.items()),columns=['Team','Points']).sort_values('Points',ascending=False)[0:2]\n",
    "    return grp_winners"
   ]
  },
  {
   "cell_type": "code",
   "execution_count": 61,
   "id": "adb31e71",
   "metadata": {},
   "outputs": [
    {
     "data": {
      "text/html": [
       "<div>\n",
       "<style scoped>\n",
       "    .dataframe tbody tr th:only-of-type {\n",
       "        vertical-align: middle;\n",
       "    }\n",
       "\n",
       "    .dataframe tbody tr th {\n",
       "        vertical-align: top;\n",
       "    }\n",
       "\n",
       "    .dataframe thead th {\n",
       "        text-align: right;\n",
       "    }\n",
       "</style>\n",
       "<table border=\"1\" class=\"dataframe\">\n",
       "  <thead>\n",
       "    <tr style=\"text-align: right;\">\n",
       "      <th></th>\n",
       "      <th>Team</th>\n",
       "      <th>Points</th>\n",
       "    </tr>\n",
       "  </thead>\n",
       "  <tbody>\n",
       "    <tr>\n",
       "      <th>3</th>\n",
       "      <td>Netherlands</td>\n",
       "      <td>9</td>\n",
       "    </tr>\n",
       "    <tr>\n",
       "      <th>2</th>\n",
       "      <td>Senegal</td>\n",
       "      <td>6</td>\n",
       "    </tr>\n",
       "  </tbody>\n",
       "</table>\n",
       "</div>"
      ],
      "text/plain": [
       "          Team  Points\n",
       "3  Netherlands       9\n",
       "2      Senegal       6"
      ]
     },
     "execution_count": 61,
     "metadata": {},
     "output_type": "execute_result"
    }
   ],
   "source": [
    "#checking if function is working fine\n",
    "League_round(\"Qatar\", \"Ecuador\",\"Senegal\",\"Netherlands\")"
   ]
  },
  {
   "cell_type": "markdown",
   "id": "1c62bf56",
   "metadata": {},
   "source": [
    "### Simulating League round results"
   ]
  },
  {
   "cell_type": "code",
   "execution_count": 62,
   "id": "ac9bf900",
   "metadata": {},
   "outputs": [
    {
     "data": {
      "text/html": [
       "<div>\n",
       "<style scoped>\n",
       "    .dataframe tbody tr th:only-of-type {\n",
       "        vertical-align: middle;\n",
       "    }\n",
       "\n",
       "    .dataframe tbody tr th {\n",
       "        vertical-align: top;\n",
       "    }\n",
       "\n",
       "    .dataframe thead th {\n",
       "        text-align: right;\n",
       "    }\n",
       "</style>\n",
       "<table border=\"1\" class=\"dataframe\">\n",
       "  <thead>\n",
       "    <tr style=\"text-align: right;\">\n",
       "      <th></th>\n",
       "      <th>index</th>\n",
       "      <th>Team</th>\n",
       "      <th>Points</th>\n",
       "    </tr>\n",
       "  </thead>\n",
       "  <tbody>\n",
       "    <tr>\n",
       "      <th>0</th>\n",
       "      <td>3</td>\n",
       "      <td>Netherlands</td>\n",
       "      <td>9</td>\n",
       "    </tr>\n",
       "    <tr>\n",
       "      <th>1</th>\n",
       "      <td>2</td>\n",
       "      <td>Senegal</td>\n",
       "      <td>6</td>\n",
       "    </tr>\n",
       "  </tbody>\n",
       "</table>\n",
       "</div>"
      ],
      "text/plain": [
       "   index         Team  Points\n",
       "0      3  Netherlands       9\n",
       "1      2      Senegal       6"
      ]
     },
     "execution_count": 62,
     "metadata": {},
     "output_type": "execute_result"
    }
   ],
   "source": [
    "Group_A_Winners = League_round(\"Qatar\", \"Ecuador\",\"Senegal\",\"Netherlands\")\n",
    "Group_A_Winners.reset_index()"
   ]
  },
  {
   "cell_type": "code",
   "execution_count": 63,
   "id": "922b9845",
   "metadata": {},
   "outputs": [
    {
     "data": {
      "text/html": [
       "<div>\n",
       "<style scoped>\n",
       "    .dataframe tbody tr th:only-of-type {\n",
       "        vertical-align: middle;\n",
       "    }\n",
       "\n",
       "    .dataframe tbody tr th {\n",
       "        vertical-align: top;\n",
       "    }\n",
       "\n",
       "    .dataframe thead th {\n",
       "        text-align: right;\n",
       "    }\n",
       "</style>\n",
       "<table border=\"1\" class=\"dataframe\">\n",
       "  <thead>\n",
       "    <tr style=\"text-align: right;\">\n",
       "      <th></th>\n",
       "      <th>index</th>\n",
       "      <th>Team</th>\n",
       "      <th>Points</th>\n",
       "    </tr>\n",
       "  </thead>\n",
       "  <tbody>\n",
       "    <tr>\n",
       "      <th>0</th>\n",
       "      <td>0</td>\n",
       "      <td>England</td>\n",
       "      <td>9</td>\n",
       "    </tr>\n",
       "    <tr>\n",
       "      <th>1</th>\n",
       "      <td>2</td>\n",
       "      <td>USA</td>\n",
       "      <td>3</td>\n",
       "    </tr>\n",
       "  </tbody>\n",
       "</table>\n",
       "</div>"
      ],
      "text/plain": [
       "   index     Team  Points\n",
       "0      0  England       9\n",
       "1      2      USA       3"
      ]
     },
     "execution_count": 63,
     "metadata": {},
     "output_type": "execute_result"
    }
   ],
   "source": [
    "Group_B_Winners = League_round(\"England\",\"IR Iran\", \"USA\", \"Wales\")\n",
    "Group_B_Winners.reset_index()"
   ]
  },
  {
   "cell_type": "code",
   "execution_count": 64,
   "id": "73daa51e",
   "metadata": {},
   "outputs": [
    {
     "data": {
      "text/html": [
       "<div>\n",
       "<style scoped>\n",
       "    .dataframe tbody tr th:only-of-type {\n",
       "        vertical-align: middle;\n",
       "    }\n",
       "\n",
       "    .dataframe tbody tr th {\n",
       "        vertical-align: top;\n",
       "    }\n",
       "\n",
       "    .dataframe thead th {\n",
       "        text-align: right;\n",
       "    }\n",
       "</style>\n",
       "<table border=\"1\" class=\"dataframe\">\n",
       "  <thead>\n",
       "    <tr style=\"text-align: right;\">\n",
       "      <th></th>\n",
       "      <th>index</th>\n",
       "      <th>Team</th>\n",
       "      <th>Points</th>\n",
       "    </tr>\n",
       "  </thead>\n",
       "  <tbody>\n",
       "    <tr>\n",
       "      <th>0</th>\n",
       "      <td>0</td>\n",
       "      <td>Argentina</td>\n",
       "      <td>9</td>\n",
       "    </tr>\n",
       "    <tr>\n",
       "      <th>1</th>\n",
       "      <td>2</td>\n",
       "      <td>Mexico</td>\n",
       "      <td>3</td>\n",
       "    </tr>\n",
       "  </tbody>\n",
       "</table>\n",
       "</div>"
      ],
      "text/plain": [
       "   index       Team  Points\n",
       "0      0  Argentina       9\n",
       "1      2     Mexico       3"
      ]
     },
     "execution_count": 64,
     "metadata": {},
     "output_type": "execute_result"
    }
   ],
   "source": [
    "Group_C_Winners = League_round(\"Argentina\",\"Saudi Arabia\", \"Mexico\",\"Poland\")\n",
    "Group_C_Winners.reset_index()"
   ]
  },
  {
   "cell_type": "code",
   "execution_count": 65,
   "id": "bbbe1e0e",
   "metadata": {},
   "outputs": [
    {
     "data": {
      "text/html": [
       "<div>\n",
       "<style scoped>\n",
       "    .dataframe tbody tr th:only-of-type {\n",
       "        vertical-align: middle;\n",
       "    }\n",
       "\n",
       "    .dataframe tbody tr th {\n",
       "        vertical-align: top;\n",
       "    }\n",
       "\n",
       "    .dataframe thead th {\n",
       "        text-align: right;\n",
       "    }\n",
       "</style>\n",
       "<table border=\"1\" class=\"dataframe\">\n",
       "  <thead>\n",
       "    <tr style=\"text-align: right;\">\n",
       "      <th></th>\n",
       "      <th>index</th>\n",
       "      <th>Team</th>\n",
       "      <th>Points</th>\n",
       "    </tr>\n",
       "  </thead>\n",
       "  <tbody>\n",
       "    <tr>\n",
       "      <th>0</th>\n",
       "      <td>0</td>\n",
       "      <td>France</td>\n",
       "      <td>9</td>\n",
       "    </tr>\n",
       "    <tr>\n",
       "      <th>1</th>\n",
       "      <td>2</td>\n",
       "      <td>Denmark</td>\n",
       "      <td>6</td>\n",
       "    </tr>\n",
       "  </tbody>\n",
       "</table>\n",
       "</div>"
      ],
      "text/plain": [
       "   index     Team  Points\n",
       "0      0   France       9\n",
       "1      2  Denmark       6"
      ]
     },
     "execution_count": 65,
     "metadata": {},
     "output_type": "execute_result"
    }
   ],
   "source": [
    "Group_D_Winners = League_round(\"France\",\"Australia\",\"Denmark\",\"Tunisia\")\n",
    "Group_D_Winners.reset_index()"
   ]
  },
  {
   "cell_type": "code",
   "execution_count": 66,
   "id": "7170ed51",
   "metadata": {},
   "outputs": [
    {
     "data": {
      "text/html": [
       "<div>\n",
       "<style scoped>\n",
       "    .dataframe tbody tr th:only-of-type {\n",
       "        vertical-align: middle;\n",
       "    }\n",
       "\n",
       "    .dataframe tbody tr th {\n",
       "        vertical-align: top;\n",
       "    }\n",
       "\n",
       "    .dataframe thead th {\n",
       "        text-align: right;\n",
       "    }\n",
       "</style>\n",
       "<table border=\"1\" class=\"dataframe\">\n",
       "  <thead>\n",
       "    <tr style=\"text-align: right;\">\n",
       "      <th></th>\n",
       "      <th>index</th>\n",
       "      <th>Team</th>\n",
       "      <th>Points</th>\n",
       "    </tr>\n",
       "  </thead>\n",
       "  <tbody>\n",
       "    <tr>\n",
       "      <th>0</th>\n",
       "      <td>0</td>\n",
       "      <td>Spain</td>\n",
       "      <td>6</td>\n",
       "    </tr>\n",
       "    <tr>\n",
       "      <th>1</th>\n",
       "      <td>2</td>\n",
       "      <td>Germany</td>\n",
       "      <td>6</td>\n",
       "    </tr>\n",
       "  </tbody>\n",
       "</table>\n",
       "</div>"
      ],
      "text/plain": [
       "   index     Team  Points\n",
       "0      0    Spain       6\n",
       "1      2  Germany       6"
      ]
     },
     "execution_count": 66,
     "metadata": {},
     "output_type": "execute_result"
    }
   ],
   "source": [
    "Group_E_Winners = League_round(\"Spain\",\"Costa Rica\",\"Germany\",\"Japan\")\n",
    "Group_E_Winners.reset_index()"
   ]
  },
  {
   "cell_type": "code",
   "execution_count": 67,
   "id": "f058a4f1",
   "metadata": {},
   "outputs": [
    {
     "data": {
      "text/html": [
       "<div>\n",
       "<style scoped>\n",
       "    .dataframe tbody tr th:only-of-type {\n",
       "        vertical-align: middle;\n",
       "    }\n",
       "\n",
       "    .dataframe tbody tr th {\n",
       "        vertical-align: top;\n",
       "    }\n",
       "\n",
       "    .dataframe thead th {\n",
       "        text-align: right;\n",
       "    }\n",
       "</style>\n",
       "<table border=\"1\" class=\"dataframe\">\n",
       "  <thead>\n",
       "    <tr style=\"text-align: right;\">\n",
       "      <th></th>\n",
       "      <th>index</th>\n",
       "      <th>Team</th>\n",
       "      <th>Points</th>\n",
       "    </tr>\n",
       "  </thead>\n",
       "  <tbody>\n",
       "    <tr>\n",
       "      <th>0</th>\n",
       "      <td>0</td>\n",
       "      <td>Belgium</td>\n",
       "      <td>6</td>\n",
       "    </tr>\n",
       "    <tr>\n",
       "      <th>1</th>\n",
       "      <td>2</td>\n",
       "      <td>Morocco</td>\n",
       "      <td>3</td>\n",
       "    </tr>\n",
       "  </tbody>\n",
       "</table>\n",
       "</div>"
      ],
      "text/plain": [
       "   index     Team  Points\n",
       "0      0  Belgium       6\n",
       "1      2  Morocco       3"
      ]
     },
     "execution_count": 67,
     "metadata": {},
     "output_type": "execute_result"
    }
   ],
   "source": [
    "Group_F_Winners = League_round(\"Belgium\",\"Canada\",\"Morocco\",\"Croatia\")\n",
    "Group_F_Winners.reset_index()"
   ]
  },
  {
   "cell_type": "code",
   "execution_count": 68,
   "id": "624ddd89",
   "metadata": {},
   "outputs": [
    {
     "data": {
      "text/html": [
       "<div>\n",
       "<style scoped>\n",
       "    .dataframe tbody tr th:only-of-type {\n",
       "        vertical-align: middle;\n",
       "    }\n",
       "\n",
       "    .dataframe tbody tr th {\n",
       "        vertical-align: top;\n",
       "    }\n",
       "\n",
       "    .dataframe thead th {\n",
       "        text-align: right;\n",
       "    }\n",
       "</style>\n",
       "<table border=\"1\" class=\"dataframe\">\n",
       "  <thead>\n",
       "    <tr style=\"text-align: right;\">\n",
       "      <th></th>\n",
       "      <th>index</th>\n",
       "      <th>Team</th>\n",
       "      <th>Points</th>\n",
       "    </tr>\n",
       "  </thead>\n",
       "  <tbody>\n",
       "    <tr>\n",
       "      <th>0</th>\n",
       "      <td>0</td>\n",
       "      <td>Brazil</td>\n",
       "      <td>9</td>\n",
       "    </tr>\n",
       "    <tr>\n",
       "      <th>1</th>\n",
       "      <td>1</td>\n",
       "      <td>Serbia</td>\n",
       "      <td>3</td>\n",
       "    </tr>\n",
       "  </tbody>\n",
       "</table>\n",
       "</div>"
      ],
      "text/plain": [
       "   index    Team  Points\n",
       "0      0  Brazil       9\n",
       "1      1  Serbia       3"
      ]
     },
     "execution_count": 68,
     "metadata": {},
     "output_type": "execute_result"
    }
   ],
   "source": [
    "Group_G_Winners = League_round(\"Brazil\",\"Serbia\",\"Switzerland\",\"Cameroon\")\n",
    "Group_G_Winners.reset_index()"
   ]
  },
  {
   "cell_type": "code",
   "execution_count": 69,
   "id": "e140a96c",
   "metadata": {},
   "outputs": [
    {
     "data": {
      "text/html": [
       "<div>\n",
       "<style scoped>\n",
       "    .dataframe tbody tr th:only-of-type {\n",
       "        vertical-align: middle;\n",
       "    }\n",
       "\n",
       "    .dataframe tbody tr th {\n",
       "        vertical-align: top;\n",
       "    }\n",
       "\n",
       "    .dataframe thead th {\n",
       "        text-align: right;\n",
       "    }\n",
       "</style>\n",
       "<table border=\"1\" class=\"dataframe\">\n",
       "  <thead>\n",
       "    <tr style=\"text-align: right;\">\n",
       "      <th></th>\n",
       "      <th>index</th>\n",
       "      <th>Team</th>\n",
       "      <th>Points</th>\n",
       "    </tr>\n",
       "  </thead>\n",
       "  <tbody>\n",
       "    <tr>\n",
       "      <th>0</th>\n",
       "      <td>0</td>\n",
       "      <td>Portugal</td>\n",
       "      <td>6</td>\n",
       "    </tr>\n",
       "    <tr>\n",
       "      <th>1</th>\n",
       "      <td>2</td>\n",
       "      <td>Uruguay</td>\n",
       "      <td>6</td>\n",
       "    </tr>\n",
       "  </tbody>\n",
       "</table>\n",
       "</div>"
      ],
      "text/plain": [
       "   index      Team  Points\n",
       "0      0  Portugal       6\n",
       "1      2   Uruguay       6"
      ]
     },
     "execution_count": 69,
     "metadata": {},
     "output_type": "execute_result"
    }
   ],
   "source": [
    "Group_H_Winners = League_round(\"Portugal\",\"Ghana\",\"Uruguay\",\"Korea Republic\")\n",
    "Group_H_Winners.reset_index()"
   ]
  },
  {
   "cell_type": "markdown",
   "id": "a9fedddf",
   "metadata": {},
   "source": [
    "### Simulating Knockout matches -Round of 16"
   ]
  },
  {
   "cell_type": "code",
   "execution_count": 70,
   "id": "801c3d95",
   "metadata": {},
   "outputs": [
    {
     "data": {
      "text/plain": [
       "('Netherlands', 0.7469594859082042)"
      ]
     },
     "execution_count": 70,
     "metadata": {},
     "output_type": "execute_result"
    }
   ],
   "source": [
    "#Grp1A, Grp2B\n",
    "W49 = knockout_result(Group_A_Winners['Team'].iloc[0], Group_B_Winners['Team'].iloc[1])\n",
    "W49"
   ]
  },
  {
   "cell_type": "code",
   "execution_count": 71,
   "id": "ad9e047b",
   "metadata": {},
   "outputs": [
    {
     "data": {
      "text/plain": [
       "('Argentina', 0.6981700695706069)"
      ]
     },
     "execution_count": 71,
     "metadata": {},
     "output_type": "execute_result"
    }
   ],
   "source": [
    "#Grp1C, Grp2D\n",
    "W50 = knockout_result(Group_C_Winners['Team'].iloc[0], Group_D_Winners['Team'].iloc[1])\n",
    "W50"
   ]
  },
  {
   "cell_type": "code",
   "execution_count": 72,
   "id": "8109db75",
   "metadata": {},
   "outputs": [
    {
     "data": {
      "text/plain": [
       "('England', 0.7859702953197453)"
      ]
     },
     "execution_count": 72,
     "metadata": {},
     "output_type": "execute_result"
    }
   ],
   "source": [
    "#Grp1B, Grp2A\n",
    "W51 = knockout_result(Group_B_Winners['Team'].iloc[0], Group_A_Winners['Team'].iloc[1])\n",
    "W51"
   ]
  },
  {
   "cell_type": "code",
   "execution_count": 73,
   "id": "dcaf6719",
   "metadata": {},
   "outputs": [
    {
     "data": {
      "text/plain": [
       "('France', 0.7865684984424683)"
      ]
     },
     "execution_count": 73,
     "metadata": {},
     "output_type": "execute_result"
    }
   ],
   "source": [
    "#Grp1D, Grp2C\n",
    "W52 = knockout_result(Group_D_Winners['Team'].iloc[0], Group_C_Winners['Team'].iloc[1])\n",
    "W52"
   ]
  },
  {
   "cell_type": "code",
   "execution_count": 74,
   "id": "5fd0cca5",
   "metadata": {},
   "outputs": [
    {
     "data": {
      "text/plain": [
       "('Spain', 0.7597821233509373)"
      ]
     },
     "execution_count": 74,
     "metadata": {},
     "output_type": "execute_result"
    }
   ],
   "source": [
    "#Grp1E, Grp2F\n",
    "W53 = knockout_result(Group_E_Winners['Team'].iloc[0], Group_F_Winners['Team'].iloc[1])\n",
    "W53"
   ]
  },
  {
   "cell_type": "code",
   "execution_count": 75,
   "id": "3f4682ed",
   "metadata": {},
   "outputs": [
    {
     "data": {
      "text/plain": [
       "('Brazil', 0.7428515591979341)"
      ]
     },
     "execution_count": 75,
     "metadata": {},
     "output_type": "execute_result"
    }
   ],
   "source": [
    "#Grp1G, Grp2H\n",
    "W54 = knockout_result(Group_G_Winners['Team'].iloc[0], Group_H_Winners['Team'].iloc[1])\n",
    "W54"
   ]
  },
  {
   "cell_type": "code",
   "execution_count": 76,
   "id": "eeeb1056",
   "metadata": {},
   "outputs": [
    {
     "data": {
      "text/plain": [
       "('Belgium', 0.5260419774528696)"
      ]
     },
     "execution_count": 76,
     "metadata": {},
     "output_type": "execute_result"
    }
   ],
   "source": [
    "#Grp1F, Grp2E\n",
    "W55 = knockout_result(Group_F_Winners['Team'].iloc[0], Group_E_Winners['Team'].iloc[1])\n",
    "W55"
   ]
  },
  {
   "cell_type": "code",
   "execution_count": 77,
   "id": "4ad91896",
   "metadata": {},
   "outputs": [
    {
     "data": {
      "text/plain": [
       "('Portugal', 0.6637506751500115)"
      ]
     },
     "execution_count": 77,
     "metadata": {},
     "output_type": "execute_result"
    }
   ],
   "source": [
    "#Grp1H, Grp2G\n",
    "W56 = knockout_result(Group_H_Winners['Team'].iloc[0], Group_G_Winners['Team'].iloc[1])\n",
    "W56"
   ]
  },
  {
   "cell_type": "markdown",
   "id": "93a69df5",
   "metadata": {},
   "source": [
    "### Round of 16 Winners"
   ]
  },
  {
   "cell_type": "code",
   "execution_count": 78,
   "id": "9367c58c",
   "metadata": {},
   "outputs": [
    {
     "name": "stdout",
     "output_type": "stream",
     "text": [
      " ('Netherlands', 0.7469594859082042) \n",
      " ('Argentina', 0.6981700695706069) \n",
      " ('England', 0.7859702953197453) \n",
      " ('France', 0.7865684984424683) \n",
      " ('Spain', 0.7597821233509373) \n",
      " ('Brazil', 0.7428515591979341) \n",
      " ('Belgium', 0.5260419774528696) \n",
      " ('Portugal', 0.6637506751500115)\n"
     ]
    }
   ],
   "source": [
    "print(\"\",W49,\"\\n\",W50,\"\\n\",W51,\"\\n\",W52,\"\\n\",W53,\"\\n\",W54,\"\\n\",W55,\"\\n\",W56)"
   ]
  },
  {
   "cell_type": "markdown",
   "id": "2b9acb40",
   "metadata": {},
   "source": [
    "### Simulating Round of 8 - QuaterFinals"
   ]
  },
  {
   "cell_type": "code",
   "execution_count": 79,
   "id": "1e1995c8",
   "metadata": {},
   "outputs": [
    {
     "data": {
      "text/plain": [
       "('Argentina', 0.5786683620267639)"
      ]
     },
     "execution_count": 79,
     "metadata": {},
     "output_type": "execute_result"
    }
   ],
   "source": [
    "#W49, W50\n",
    "W57 = knockout_result(W49[0], W50[0])\n",
    "W57"
   ]
  },
  {
   "cell_type": "code",
   "execution_count": 80,
   "id": "7ea32d09",
   "metadata": {},
   "outputs": [
    {
     "data": {
      "text/plain": [
       "('Brazil', 0.5961038395089375)"
      ]
     },
     "execution_count": 80,
     "metadata": {},
     "output_type": "execute_result"
    }
   ],
   "source": [
    "#W53, W54\n",
    "W58 = knockout_result(W53[0], W54[0])\n",
    "W58"
   ]
  },
  {
   "cell_type": "code",
   "execution_count": 81,
   "id": "8913c2cf",
   "metadata": {},
   "outputs": [
    {
     "data": {
      "text/plain": [
       "('France', 0.5642154253007614)"
      ]
     },
     "execution_count": 81,
     "metadata": {},
     "output_type": "execute_result"
    }
   ],
   "source": [
    "#W51, W52\n",
    "W59 = knockout_result(W51[0], W52[0])\n",
    "W59"
   ]
  },
  {
   "cell_type": "code",
   "execution_count": 82,
   "id": "2deffd28",
   "metadata": {},
   "outputs": [
    {
     "data": {
      "text/plain": [
       "('Portugal', 0.5237989332747264)"
      ]
     },
     "execution_count": 82,
     "metadata": {},
     "output_type": "execute_result"
    }
   ],
   "source": [
    "#W55, W56\n",
    "W60 = knockout_result(W55[0], W56[0])\n",
    "W60"
   ]
  },
  {
   "cell_type": "markdown",
   "id": "e418586e",
   "metadata": {},
   "source": [
    "### QuaterFinals Winners"
   ]
  },
  {
   "cell_type": "code",
   "execution_count": 83,
   "id": "892009f9",
   "metadata": {},
   "outputs": [
    {
     "name": "stdout",
     "output_type": "stream",
     "text": [
      " ('Argentina', 0.5786683620267639) \n",
      " ('Brazil', 0.5961038395089375) \n",
      " ('France', 0.5642154253007614) \n",
      " ('Portugal', 0.5237989332747264)\n"
     ]
    }
   ],
   "source": [
    "print(\"\",W57,\"\\n\",W58,\"\\n\",W59,\"\\n\",W60)"
   ]
  },
  {
   "cell_type": "markdown",
   "id": "2e6b55f1",
   "metadata": {},
   "source": [
    "### Simulating SemiFinals"
   ]
  },
  {
   "cell_type": "code",
   "execution_count": 84,
   "id": "5212a712",
   "metadata": {},
   "outputs": [
    {
     "data": {
      "text/plain": [
       "('Brazil', 0.5781140710647121)"
      ]
     },
     "execution_count": 84,
     "metadata": {},
     "output_type": "execute_result"
    }
   ],
   "source": [
    "#W57,W58\n",
    "final1 = knockout_result(W57[0], W58[0])\n",
    "final1"
   ]
  },
  {
   "cell_type": "code",
   "execution_count": 85,
   "id": "c2a93c35",
   "metadata": {},
   "outputs": [
    {
     "data": {
      "text/plain": [
       "('France', 0.5868631249553169)"
      ]
     },
     "execution_count": 85,
     "metadata": {},
     "output_type": "execute_result"
    }
   ],
   "source": [
    "#W59,W60\n",
    "final2 = knockout_result(W59[0], W60[0])\n",
    "final2"
   ]
  },
  {
   "cell_type": "markdown",
   "id": "bd667968",
   "metadata": {},
   "source": [
    "### SemiFinals Winner"
   ]
  },
  {
   "cell_type": "code",
   "execution_count": 86,
   "id": "245ce8bc",
   "metadata": {},
   "outputs": [
    {
     "name": "stdout",
     "output_type": "stream",
     "text": [
      " ('Brazil', 0.5781140710647121) \n",
      " ('France', 0.5868631249553169)\n"
     ]
    }
   ],
   "source": [
    "print(\"\",final1,\"\\n\",final2)"
   ]
  },
  {
   "cell_type": "markdown",
   "id": "e740c89e",
   "metadata": {},
   "source": [
    "### 3rd place Match"
   ]
  },
  {
   "cell_type": "code",
   "execution_count": 87,
   "id": "ae1cf291",
   "metadata": {},
   "outputs": [
    {
     "data": {
      "text/plain": [
       "'Argentina'"
      ]
     },
     "execution_count": 87,
     "metadata": {},
     "output_type": "execute_result"
    }
   ],
   "source": [
    "team1 = list([W57[0], W58[0]])\n",
    "team1.remove(final1[0])\n",
    "team1 = team1[0]\n",
    "team1"
   ]
  },
  {
   "cell_type": "code",
   "execution_count": 88,
   "id": "4a37ab02",
   "metadata": {},
   "outputs": [
    {
     "data": {
      "text/plain": [
       "'Portugal'"
      ]
     },
     "execution_count": 88,
     "metadata": {},
     "output_type": "execute_result"
    }
   ],
   "source": [
    "team2 = list([W59[0], W60[0]])\n",
    "team2.remove(final2[0])\n",
    "team2 = team2[0]\n",
    "team2"
   ]
  },
  {
   "cell_type": "code",
   "execution_count": 89,
   "id": "d6c8cf2a",
   "metadata": {},
   "outputs": [
    {
     "data": {
      "text/plain": [
       "('Portugal', 0.5451011288443868)"
      ]
     },
     "execution_count": 89,
     "metadata": {},
     "output_type": "execute_result"
    }
   ],
   "source": [
    "thirdPlace = knockout_result(team1,team2)\n",
    "thirdPlace"
   ]
  },
  {
   "cell_type": "markdown",
   "id": "1b43370c",
   "metadata": {},
   "source": [
    "## FINALS "
   ]
  },
  {
   "cell_type": "code",
   "execution_count": 90,
   "id": "ca6d2e26",
   "metadata": {},
   "outputs": [
    {
     "data": {
      "text/plain": [
       "('France', 0.5069115682070551)"
      ]
     },
     "execution_count": 90,
     "metadata": {},
     "output_type": "execute_result"
    }
   ],
   "source": [
    "Finals = knockout_result(final1[0], final2[0])\n",
    "Finals"
   ]
  },
  {
   "cell_type": "code",
   "execution_count": 91,
   "id": "98937ba3",
   "metadata": {},
   "outputs": [
    {
     "data": {
      "text/plain": [
       "'Brazil'"
      ]
     },
     "execution_count": 91,
     "metadata": {},
     "output_type": "execute_result"
    }
   ],
   "source": [
    "Runner= list([final1[0], final2[0]])\n",
    "Runner.remove(Finals[0])\n",
    "Runner = Runner[0]\n",
    "Runner"
   ]
  },
  {
   "cell_type": "code",
   "execution_count": 92,
   "id": "f8c78ce3",
   "metadata": {},
   "outputs": [
    {
     "name": "stdout",
     "output_type": "stream",
     "text": [
      "Winner is France\n",
      "2nd Place is Brazil\n",
      "3rd Place is Portugal\n"
     ]
    }
   ],
   "source": [
    "print(\"Winner is {}\".format(Finals[0]))\n",
    "print(\"2nd Place is {}\".format(Runner))\n",
    "print(\"3rd Place is {}\".format(thirdPlace[0]))"
   ]
  },
  {
   "cell_type": "markdown",
   "id": "e4c96f39",
   "metadata": {},
   "source": [
    "### League matches winning probability varies till 2\n",
    "\n",
    "##### Team1 Lose = 0 - 0.75\n",
    "##### Draw = 0.76- 1.25\n",
    "##### Team1 Win = 1.26 - 2\n",
    "\n",
    "### Knockout matches probability is 1"
   ]
  },
  {
   "cell_type": "code",
   "execution_count": null,
   "id": "4d016227",
   "metadata": {},
   "outputs": [],
   "source": []
  }
 ],
 "metadata": {
  "kernelspec": {
   "display_name": "deepLearning",
   "language": "python",
   "name": "deeplearning"
  },
  "language_info": {
   "codemirror_mode": {
    "name": "ipython",
    "version": 3
   },
   "file_extension": ".py",
   "mimetype": "text/x-python",
   "name": "python",
   "nbconvert_exporter": "python",
   "pygments_lexer": "ipython3",
   "version": "3.9.13"
  }
 },
 "nbformat": 4,
 "nbformat_minor": 5
}
