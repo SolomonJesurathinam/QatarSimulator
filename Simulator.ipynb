{
 "cells": [
  {
   "cell_type": "code",
   "execution_count": 1,
   "id": "f0e2cb59",
   "metadata": {},
   "outputs": [],
   "source": [
    "import pandas as pd\n",
    "import numpy as np\n",
    "import matplotlib.pyplot as plt\n",
    "import seaborn as sns"
   ]
  },
  {
   "cell_type": "code",
   "execution_count": 2,
   "id": "7261e6ea",
   "metadata": {},
   "outputs": [],
   "source": [
    "df = pd.read_csv(\"international_matches.csv\")"
   ]
  },
  {
   "cell_type": "code",
   "execution_count": 3,
   "id": "fb0dc42e",
   "metadata": {},
   "outputs": [
    {
     "data": {
      "text/html": [
       "<div>\n",
       "<style scoped>\n",
       "    .dataframe tbody tr th:only-of-type {\n",
       "        vertical-align: middle;\n",
       "    }\n",
       "\n",
       "    .dataframe tbody tr th {\n",
       "        vertical-align: top;\n",
       "    }\n",
       "\n",
       "    .dataframe thead th {\n",
       "        text-align: right;\n",
       "    }\n",
       "</style>\n",
       "<table border=\"1\" class=\"dataframe\">\n",
       "  <thead>\n",
       "    <tr style=\"text-align: right;\">\n",
       "      <th></th>\n",
       "      <th>date</th>\n",
       "      <th>home_team</th>\n",
       "      <th>away_team</th>\n",
       "      <th>home_team_continent</th>\n",
       "      <th>away_team_continent</th>\n",
       "      <th>home_team_fifa_rank</th>\n",
       "      <th>away_team_fifa_rank</th>\n",
       "      <th>home_team_total_fifa_points</th>\n",
       "      <th>away_team_total_fifa_points</th>\n",
       "      <th>home_team_score</th>\n",
       "      <th>...</th>\n",
       "      <th>shoot_out</th>\n",
       "      <th>home_team_result</th>\n",
       "      <th>home_team_goalkeeper_score</th>\n",
       "      <th>away_team_goalkeeper_score</th>\n",
       "      <th>home_team_mean_defense_score</th>\n",
       "      <th>home_team_mean_offense_score</th>\n",
       "      <th>home_team_mean_midfield_score</th>\n",
       "      <th>away_team_mean_defense_score</th>\n",
       "      <th>away_team_mean_offense_score</th>\n",
       "      <th>away_team_mean_midfield_score</th>\n",
       "    </tr>\n",
       "  </thead>\n",
       "  <tbody>\n",
       "    <tr>\n",
       "      <th>0</th>\n",
       "      <td>1993-08-08</td>\n",
       "      <td>Bolivia</td>\n",
       "      <td>Uruguay</td>\n",
       "      <td>South America</td>\n",
       "      <td>South America</td>\n",
       "      <td>59</td>\n",
       "      <td>22</td>\n",
       "      <td>0</td>\n",
       "      <td>0</td>\n",
       "      <td>3</td>\n",
       "      <td>...</td>\n",
       "      <td>No</td>\n",
       "      <td>Win</td>\n",
       "      <td>NaN</td>\n",
       "      <td>NaN</td>\n",
       "      <td>NaN</td>\n",
       "      <td>NaN</td>\n",
       "      <td>NaN</td>\n",
       "      <td>NaN</td>\n",
       "      <td>NaN</td>\n",
       "      <td>NaN</td>\n",
       "    </tr>\n",
       "    <tr>\n",
       "      <th>1</th>\n",
       "      <td>1993-08-08</td>\n",
       "      <td>Brazil</td>\n",
       "      <td>Mexico</td>\n",
       "      <td>South America</td>\n",
       "      <td>North America</td>\n",
       "      <td>8</td>\n",
       "      <td>14</td>\n",
       "      <td>0</td>\n",
       "      <td>0</td>\n",
       "      <td>1</td>\n",
       "      <td>...</td>\n",
       "      <td>No</td>\n",
       "      <td>Draw</td>\n",
       "      <td>NaN</td>\n",
       "      <td>NaN</td>\n",
       "      <td>NaN</td>\n",
       "      <td>NaN</td>\n",
       "      <td>NaN</td>\n",
       "      <td>NaN</td>\n",
       "      <td>NaN</td>\n",
       "      <td>NaN</td>\n",
       "    </tr>\n",
       "    <tr>\n",
       "      <th>2</th>\n",
       "      <td>1993-08-08</td>\n",
       "      <td>Ecuador</td>\n",
       "      <td>Venezuela</td>\n",
       "      <td>South America</td>\n",
       "      <td>South America</td>\n",
       "      <td>35</td>\n",
       "      <td>94</td>\n",
       "      <td>0</td>\n",
       "      <td>0</td>\n",
       "      <td>5</td>\n",
       "      <td>...</td>\n",
       "      <td>No</td>\n",
       "      <td>Win</td>\n",
       "      <td>NaN</td>\n",
       "      <td>NaN</td>\n",
       "      <td>NaN</td>\n",
       "      <td>NaN</td>\n",
       "      <td>NaN</td>\n",
       "      <td>NaN</td>\n",
       "      <td>NaN</td>\n",
       "      <td>NaN</td>\n",
       "    </tr>\n",
       "    <tr>\n",
       "      <th>3</th>\n",
       "      <td>1993-08-08</td>\n",
       "      <td>Guinea</td>\n",
       "      <td>Sierra Leone</td>\n",
       "      <td>Africa</td>\n",
       "      <td>Africa</td>\n",
       "      <td>65</td>\n",
       "      <td>86</td>\n",
       "      <td>0</td>\n",
       "      <td>0</td>\n",
       "      <td>1</td>\n",
       "      <td>...</td>\n",
       "      <td>No</td>\n",
       "      <td>Win</td>\n",
       "      <td>NaN</td>\n",
       "      <td>NaN</td>\n",
       "      <td>NaN</td>\n",
       "      <td>NaN</td>\n",
       "      <td>NaN</td>\n",
       "      <td>NaN</td>\n",
       "      <td>NaN</td>\n",
       "      <td>NaN</td>\n",
       "    </tr>\n",
       "    <tr>\n",
       "      <th>4</th>\n",
       "      <td>1993-08-08</td>\n",
       "      <td>Paraguay</td>\n",
       "      <td>Argentina</td>\n",
       "      <td>South America</td>\n",
       "      <td>South America</td>\n",
       "      <td>67</td>\n",
       "      <td>5</td>\n",
       "      <td>0</td>\n",
       "      <td>0</td>\n",
       "      <td>1</td>\n",
       "      <td>...</td>\n",
       "      <td>No</td>\n",
       "      <td>Lose</td>\n",
       "      <td>NaN</td>\n",
       "      <td>NaN</td>\n",
       "      <td>NaN</td>\n",
       "      <td>NaN</td>\n",
       "      <td>NaN</td>\n",
       "      <td>NaN</td>\n",
       "      <td>NaN</td>\n",
       "      <td>NaN</td>\n",
       "    </tr>\n",
       "  </tbody>\n",
       "</table>\n",
       "<p>5 rows × 25 columns</p>\n",
       "</div>"
      ],
      "text/plain": [
       "         date home_team     away_team home_team_continent away_team_continent  \\\n",
       "0  1993-08-08   Bolivia       Uruguay       South America       South America   \n",
       "1  1993-08-08    Brazil        Mexico       South America       North America   \n",
       "2  1993-08-08   Ecuador     Venezuela       South America       South America   \n",
       "3  1993-08-08    Guinea  Sierra Leone              Africa              Africa   \n",
       "4  1993-08-08  Paraguay     Argentina       South America       South America   \n",
       "\n",
       "   home_team_fifa_rank  away_team_fifa_rank  home_team_total_fifa_points  \\\n",
       "0                   59                   22                            0   \n",
       "1                    8                   14                            0   \n",
       "2                   35                   94                            0   \n",
       "3                   65                   86                            0   \n",
       "4                   67                    5                            0   \n",
       "\n",
       "   away_team_total_fifa_points  home_team_score  ...  shoot_out  \\\n",
       "0                            0                3  ...         No   \n",
       "1                            0                1  ...         No   \n",
       "2                            0                5  ...         No   \n",
       "3                            0                1  ...         No   \n",
       "4                            0                1  ...         No   \n",
       "\n",
       "  home_team_result home_team_goalkeeper_score away_team_goalkeeper_score  \\\n",
       "0              Win                        NaN                        NaN   \n",
       "1             Draw                        NaN                        NaN   \n",
       "2              Win                        NaN                        NaN   \n",
       "3              Win                        NaN                        NaN   \n",
       "4             Lose                        NaN                        NaN   \n",
       "\n",
       "   home_team_mean_defense_score home_team_mean_offense_score  \\\n",
       "0                           NaN                          NaN   \n",
       "1                           NaN                          NaN   \n",
       "2                           NaN                          NaN   \n",
       "3                           NaN                          NaN   \n",
       "4                           NaN                          NaN   \n",
       "\n",
       "  home_team_mean_midfield_score  away_team_mean_defense_score  \\\n",
       "0                           NaN                           NaN   \n",
       "1                           NaN                           NaN   \n",
       "2                           NaN                           NaN   \n",
       "3                           NaN                           NaN   \n",
       "4                           NaN                           NaN   \n",
       "\n",
       "   away_team_mean_offense_score  away_team_mean_midfield_score  \n",
       "0                           NaN                            NaN  \n",
       "1                           NaN                            NaN  \n",
       "2                           NaN                            NaN  \n",
       "3                           NaN                            NaN  \n",
       "4                           NaN                            NaN  \n",
       "\n",
       "[5 rows x 25 columns]"
      ]
     },
     "execution_count": 3,
     "metadata": {},
     "output_type": "execute_result"
    }
   ],
   "source": [
    "df.head()"
   ]
  },
  {
   "cell_type": "code",
   "execution_count": 4,
   "id": "b6aec166",
   "metadata": {},
   "outputs": [
    {
     "data": {
      "text/plain": [
       "Index(['date', 'home_team', 'away_team', 'home_team_continent',\n",
       "       'away_team_continent', 'home_team_fifa_rank', 'away_team_fifa_rank',\n",
       "       'home_team_total_fifa_points', 'away_team_total_fifa_points',\n",
       "       'home_team_score', 'away_team_score', 'tournament', 'city', 'country',\n",
       "       'neutral_location', 'shoot_out', 'home_team_result',\n",
       "       'home_team_goalkeeper_score', 'away_team_goalkeeper_score',\n",
       "       'home_team_mean_defense_score', 'home_team_mean_offense_score',\n",
       "       'home_team_mean_midfield_score', 'away_team_mean_defense_score',\n",
       "       'away_team_mean_offense_score', 'away_team_mean_midfield_score'],\n",
       "      dtype='object')"
      ]
     },
     "execution_count": 4,
     "metadata": {},
     "output_type": "execute_result"
    }
   ],
   "source": [
    "df.columns"
   ]
  },
  {
   "cell_type": "markdown",
   "id": "ef415c8c",
   "metadata": {},
   "source": [
    "## Analyze and fill na's"
   ]
  },
  {
   "cell_type": "code",
   "execution_count": 5,
   "id": "c6104a7f",
   "metadata": {},
   "outputs": [
    {
     "data": {
      "text/plain": [
       "date                                 0\n",
       "home_team                            0\n",
       "away_team                            0\n",
       "home_team_continent                  0\n",
       "away_team_continent                  0\n",
       "home_team_fifa_rank                  0\n",
       "away_team_fifa_rank                  0\n",
       "home_team_total_fifa_points          0\n",
       "away_team_total_fifa_points          0\n",
       "home_team_score                      0\n",
       "away_team_score                      0\n",
       "tournament                           0\n",
       "city                                 0\n",
       "country                              0\n",
       "neutral_location                     0\n",
       "shoot_out                            0\n",
       "home_team_result                     0\n",
       "home_team_goalkeeper_score       15542\n",
       "away_team_goalkeeper_score       15826\n",
       "home_team_mean_defense_score     16134\n",
       "home_team_mean_offense_score     15411\n",
       "home_team_mean_midfield_score    15759\n",
       "away_team_mean_defense_score     16357\n",
       "away_team_mean_offense_score     15609\n",
       "away_team_mean_midfield_score    15942\n",
       "dtype: int64"
      ]
     },
     "execution_count": 5,
     "metadata": {},
     "output_type": "execute_result"
    }
   ],
   "source": [
    "df.isnull().sum()"
   ]
  },
  {
   "cell_type": "code",
   "execution_count": 6,
   "id": "7fe5a050",
   "metadata": {},
   "outputs": [
    {
     "data": {
      "text/plain": [
       "count    135.000000\n",
       "mean      86.074074\n",
       "std        3.327026\n",
       "min       82.000000\n",
       "25%       83.000000\n",
       "50%       86.000000\n",
       "75%       89.000000\n",
       "max       93.000000\n",
       "Name: home_team_goalkeeper_score, dtype: float64"
      ]
     },
     "execution_count": 6,
     "metadata": {},
     "output_type": "execute_result"
    }
   ],
   "source": [
    "#We can fill mean for na's in goal_keeper_score\n",
    "df[df['home_team'] == \"Brazil\"]['home_team_goalkeeper_score'].describe()"
   ]
  },
  {
   "cell_type": "code",
   "execution_count": 7,
   "id": "aa88a990",
   "metadata": {},
   "outputs": [],
   "source": [
    "df['home_team_goalkeeper_score'] = round(df.groupby(\"home_team\")[\"home_team_goalkeeper_score\"].transform(lambda x: x.fillna(x.mean())))\n",
    "df['away_team_goalkeeper_score'] = round(df.groupby(\"away_team\")[\"away_team_goalkeeper_score\"].transform(lambda x: x.fillna(x.mean())))"
   ]
  },
  {
   "cell_type": "code",
   "execution_count": 8,
   "id": "0dc2cd84",
   "metadata": {},
   "outputs": [
    {
     "data": {
      "text/plain": [
       "count    105.000000\n",
       "mean      76.580000\n",
       "std        5.589988\n",
       "min       58.500000\n",
       "25%       73.200000\n",
       "50%       76.500000\n",
       "75%       80.000000\n",
       "max       89.500000\n",
       "Name: home_team_mean_defense_score, dtype: float64"
      ]
     },
     "execution_count": 8,
     "metadata": {},
     "output_type": "execute_result"
    }
   ],
   "source": [
    "#We can fill mean for na's in defense score\n",
    "df[df['away_team'] == \"Uruguay\"]['home_team_mean_defense_score'].describe()"
   ]
  },
  {
   "cell_type": "code",
   "execution_count": 9,
   "id": "50c0321c",
   "metadata": {},
   "outputs": [],
   "source": [
    "df['home_team_mean_defense_score'] = round(df.groupby('home_team')['home_team_mean_defense_score'].transform(lambda x : x.fillna(x.mean())))\n",
    "df['away_team_mean_defense_score'] = round(df.groupby('away_team')['away_team_mean_defense_score'].transform(lambda x : x.fillna(x.mean())))"
   ]
  },
  {
   "cell_type": "code",
   "execution_count": 10,
   "id": "7e74c77e",
   "metadata": {},
   "outputs": [
    {
     "data": {
      "text/plain": [
       "count    117.000000\n",
       "mean      78.136752\n",
       "std        5.878813\n",
       "min       66.700000\n",
       "25%       74.000000\n",
       "50%       78.000000\n",
       "75%       82.300000\n",
       "max       90.300000\n",
       "Name: home_team_mean_offense_score, dtype: float64"
      ]
     },
     "execution_count": 10,
     "metadata": {},
     "output_type": "execute_result"
    }
   ],
   "source": [
    "#We can fill mean for na's in offense score\n",
    "df[df['away_team'] == \"Uruguay\"]['home_team_mean_offense_score'].describe()"
   ]
  },
  {
   "cell_type": "code",
   "execution_count": 11,
   "id": "76ba1af5",
   "metadata": {},
   "outputs": [],
   "source": [
    "df['home_team_mean_offense_score'] = round(df.groupby('home_team')['home_team_mean_offense_score'].transform(lambda x : x.fillna(x.mean())))\n",
    "df['away_team_mean_offense_score'] = round(df.groupby('away_team')['away_team_mean_offense_score'].transform(lambda x : x.fillna(x.mean())))"
   ]
  },
  {
   "cell_type": "code",
   "execution_count": 12,
   "id": "3df8528f",
   "metadata": {},
   "outputs": [
    {
     "data": {
      "text/plain": [
       "count    110.000000\n",
       "mean      77.729091\n",
       "std        5.656617\n",
       "min       63.200000\n",
       "25%       75.050000\n",
       "50%       77.650000\n",
       "75%       81.425000\n",
       "max       89.500000\n",
       "Name: home_team_mean_midfield_score, dtype: float64"
      ]
     },
     "execution_count": 12,
     "metadata": {},
     "output_type": "execute_result"
    }
   ],
   "source": [
    "#We can fill mean for na's in midfield score\n",
    "df[df['away_team'] == \"Uruguay\"]['home_team_mean_midfield_score'].describe()"
   ]
  },
  {
   "cell_type": "code",
   "execution_count": 13,
   "id": "d7ce2747",
   "metadata": {},
   "outputs": [],
   "source": [
    "df['home_team_mean_midfield_score'] = round(df.groupby('home_team')['home_team_mean_midfield_score'].transform(lambda x : x.fillna(x.mean())))\n",
    "df['away_team_mean_midfield_score'] = round(df.groupby('away_team')['away_team_mean_midfield_score'].transform(lambda x : x.fillna(x.mean())))"
   ]
  },
  {
   "cell_type": "code",
   "execution_count": 14,
   "id": "03d8fa14",
   "metadata": {},
   "outputs": [
    {
     "data": {
      "text/plain": [
       "date                                0\n",
       "home_team                           0\n",
       "away_team                           0\n",
       "home_team_continent                 0\n",
       "away_team_continent                 0\n",
       "home_team_fifa_rank                 0\n",
       "away_team_fifa_rank                 0\n",
       "home_team_total_fifa_points         0\n",
       "away_team_total_fifa_points         0\n",
       "home_team_score                     0\n",
       "away_team_score                     0\n",
       "tournament                          0\n",
       "city                                0\n",
       "country                             0\n",
       "neutral_location                    0\n",
       "shoot_out                           0\n",
       "home_team_result                    0\n",
       "home_team_goalkeeper_score       5683\n",
       "away_team_goalkeeper_score       6254\n",
       "home_team_mean_defense_score     8019\n",
       "home_team_mean_offense_score     6995\n",
       "home_team_mean_midfield_score    6955\n",
       "away_team_mean_defense_score     8285\n",
       "away_team_mean_offense_score     7165\n",
       "away_team_mean_midfield_score    7036\n",
       "dtype: int64"
      ]
     },
     "execution_count": 14,
     "metadata": {},
     "output_type": "execute_result"
    }
   ],
   "source": [
    "df.isnull().sum()"
   ]
  },
  {
   "cell_type": "code",
   "execution_count": 15,
   "id": "43e8dbaf",
   "metadata": {},
   "outputs": [],
   "source": [
    "#Teams are not in FIFA game itself, so they under performing teams, so giving a average score of 50 for all.\n",
    "df.fillna(50,inplace=True)"
   ]
  },
  {
   "cell_type": "code",
   "execution_count": 16,
   "id": "54c362d2",
   "metadata": {},
   "outputs": [
    {
     "data": {
      "text/plain": [
       "date                             0\n",
       "home_team                        0\n",
       "away_team                        0\n",
       "home_team_continent              0\n",
       "away_team_continent              0\n",
       "home_team_fifa_rank              0\n",
       "away_team_fifa_rank              0\n",
       "home_team_total_fifa_points      0\n",
       "away_team_total_fifa_points      0\n",
       "home_team_score                  0\n",
       "away_team_score                  0\n",
       "tournament                       0\n",
       "city                             0\n",
       "country                          0\n",
       "neutral_location                 0\n",
       "shoot_out                        0\n",
       "home_team_result                 0\n",
       "home_team_goalkeeper_score       0\n",
       "away_team_goalkeeper_score       0\n",
       "home_team_mean_defense_score     0\n",
       "home_team_mean_offense_score     0\n",
       "home_team_mean_midfield_score    0\n",
       "away_team_mean_defense_score     0\n",
       "away_team_mean_offense_score     0\n",
       "away_team_mean_midfield_score    0\n",
       "dtype: int64"
      ]
     },
     "execution_count": 16,
     "metadata": {},
     "output_type": "execute_result"
    }
   ],
   "source": [
    "df.isnull().sum()"
   ]
  },
  {
   "cell_type": "markdown",
   "id": "d354b977",
   "metadata": {},
   "source": [
    "## Filter the teams participating in World cup 22"
   ]
  },
  {
   "cell_type": "code",
   "execution_count": 17,
   "id": "2664e8b5",
   "metadata": {},
   "outputs": [],
   "source": [
    "list_2022 = ['Qatar', 'Germany', 'Denmark', 'Brazil', 'France', 'Belgium', 'Croatia', 'Spain', 'Serbia', 'England', 'Switzerland', 'Netherlands', 'Argentina', 'IR Iran', 'Korea Republic', 'Japan', 'Saudi Arabia', 'Ecuador', 'Uruguay', 'Canada', 'Ghana', 'Senegal', 'Portugal', 'Poland', 'Tunisia', 'Morocco', 'Cameroon', 'USA', 'Mexico', 'Wales', 'Australia', 'Costa Rica']\n",
    "final_df = df[(df[\"home_team\"].apply(lambda x: x in list_2022)) | (df[\"away_team\"].apply(lambda x: x in list_2022))]"
   ]
  },
  {
   "cell_type": "markdown",
   "id": "730d9e9a",
   "metadata": {},
   "source": [
    "### Mapping numeric values for home_team_result to find the correleations"
   ]
  },
  {
   "cell_type": "code",
   "execution_count": 18,
   "id": "198c61aa",
   "metadata": {},
   "outputs": [
    {
     "name": "stderr",
     "output_type": "stream",
     "text": [
      "C:\\Users\\Solo\\AppData\\Local\\Temp\\ipykernel_8820\\3721063426.py:1: SettingWithCopyWarning: \n",
      "A value is trying to be set on a copy of a slice from a DataFrame.\n",
      "Try using .loc[row_indexer,col_indexer] = value instead\n",
      "\n",
      "See the caveats in the documentation: https://pandas.pydata.org/pandas-docs/stable/user_guide/indexing.html#returning-a-view-versus-a-copy\n",
      "  final_df['home_team_result'] = final_df['home_team_result'].map({'Win':1, 'Draw':2, 'Lose':0})\n"
     ]
    }
   ],
   "source": [
    "final_df['home_team_result'] = final_df['home_team_result'].map({'Win':1, 'Draw':2, 'Lose':0})"
   ]
  },
  {
   "cell_type": "code",
   "execution_count": 19,
   "id": "5e0bdc5f",
   "metadata": {},
   "outputs": [
    {
     "data": {
      "text/plain": [
       "home_team_result                 1.000000\n",
       "home_team_mean_offense_score     0.165981\n",
       "home_team_mean_defense_score     0.158841\n",
       "home_team_mean_midfield_score    0.157639\n",
       "home_team_score                  0.127916\n",
       "home_team_goalkeeper_score       0.122509\n",
       "away_team_fifa_rank              0.111366\n",
       "home_team_total_fifa_points      0.015498\n",
       "away_team_total_fifa_points     -0.047726\n",
       "neutral_location                -0.066361\n",
       "away_team_mean_offense_score    -0.117055\n",
       "away_team_mean_defense_score    -0.122354\n",
       "away_team_goalkeeper_score      -0.124837\n",
       "away_team_mean_midfield_score   -0.127505\n",
       "home_team_fifa_rank             -0.186355\n",
       "away_team_score                 -0.464635\n",
       "Name: home_team_result, dtype: float64"
      ]
     },
     "execution_count": 19,
     "metadata": {},
     "output_type": "execute_result"
    }
   ],
   "source": [
    "final_df.corr()['home_team_result'].sort_values(ascending=False)"
   ]
  },
  {
   "cell_type": "markdown",
   "id": "c96dd3f8",
   "metadata": {},
   "source": [
    "### Dropping unnecessary colums"
   ]
  },
  {
   "cell_type": "code",
   "execution_count": 20,
   "id": "4a76be13",
   "metadata": {},
   "outputs": [],
   "source": [
    "final_df = final_df.drop(['date', 'home_team_continent','away_team_continent','home_team_total_fifa_points', 'away_team_total_fifa_points','home_team_score', 'away_team_score', 'tournament', 'city', 'country','neutral_location', 'shoot_out'],axis=1)"
   ]
  },
  {
   "cell_type": "code",
   "execution_count": 21,
   "id": "7362577c",
   "metadata": {},
   "outputs": [
    {
     "data": {
      "text/plain": [
       "Index(['home_team', 'away_team', 'home_team_fifa_rank', 'away_team_fifa_rank',\n",
       "       'home_team_result', 'home_team_goalkeeper_score',\n",
       "       'away_team_goalkeeper_score', 'home_team_mean_defense_score',\n",
       "       'home_team_mean_offense_score', 'home_team_mean_midfield_score',\n",
       "       'away_team_mean_defense_score', 'away_team_mean_offense_score',\n",
       "       'away_team_mean_midfield_score'],\n",
       "      dtype='object')"
      ]
     },
     "execution_count": 21,
     "metadata": {},
     "output_type": "execute_result"
    }
   ],
   "source": [
    "final_df.columns"
   ]
  },
  {
   "cell_type": "markdown",
   "id": "b25cab88",
   "metadata": {},
   "source": [
    "### Change column names"
   ]
  },
  {
   "cell_type": "code",
   "execution_count": 22,
   "id": "53d9e662",
   "metadata": {},
   "outputs": [],
   "source": [
    "final_df.rename(columns={\"home_team\":\"Team1\", \"away_team\": \"Team2\", \"home_team_fifa_rank\": \"Team1_FIFA_RANK\", \n",
    "                         \"away_team_fifa_rank\":\"Team2_FIFA_RANK\", \"home_team_result\":\"Team1_Result\", \"home_team_goalkeeper_score\":\"Team1_Goalkeeper_Score\",\n",
    "                        \"away_team_goalkeeper_score\":\"Team2_Goalkeeper_Score\", \"home_team_mean_defense_score\":\"Team1_Defense\",\n",
    "                        \"home_team_mean_offense_score\":\"Team1_Offense\", \"home_team_mean_midfield_score\":\"Team1_Midfield\",\n",
    "                        \"away_team_mean_defense_score\":\"Team2_Defense\", \"away_team_mean_offense_score\":\"Team2_Offense\",\n",
    "                        \"away_team_mean_midfield_score\":\"Team2_Midfield\"},inplace=True)"
   ]
  },
  {
   "cell_type": "code",
   "execution_count": 23,
   "id": "a0609301",
   "metadata": {},
   "outputs": [
    {
     "data": {
      "text/plain": [
       "<AxesSubplot:>"
      ]
     },
     "execution_count": 23,
     "metadata": {},
     "output_type": "execute_result"
    },
    {
     "data": {
      "image/png": "[encoded data removed]",
      "text/plain": [
       "<Figure size 2000x800 with 2 Axes>"
      ]
     },
     "metadata": {},
     "output_type": "display_data"
    }
   ],
   "source": [
    "plt.figure(figsize=(10,4),dpi=200)\n",
    "sns.heatmap(final_df.corr(),annot=True)"
   ]
  },
  {
   "cell_type": "code",
   "execution_count": 24,
   "id": "98cfe222",
   "metadata": {},
   "outputs": [],
   "source": [
    "#final_df.to_csv(\"ExtraData.csv\")"
   ]
  },
  {
   "cell_type": "code",
   "execution_count": 25,
   "id": "22863947",
   "metadata": {},
   "outputs": [
    {
     "data": {
      "text/html": [
       "<div>\n",
       "<style scoped>\n",
       "    .dataframe tbody tr th:only-of-type {\n",
       "        vertical-align: middle;\n",
       "    }\n",
       "\n",
       "    .dataframe tbody tr th {\n",
       "        vertical-align: top;\n",
       "    }\n",
       "\n",
       "    .dataframe thead th {\n",
       "        text-align: right;\n",
       "    }\n",
       "</style>\n",
       "<table border=\"1\" class=\"dataframe\">\n",
       "  <thead>\n",
       "    <tr style=\"text-align: right;\">\n",
       "      <th></th>\n",
       "      <th>Team1</th>\n",
       "      <th>Team2</th>\n",
       "      <th>Team1_FIFA_RANK</th>\n",
       "      <th>Team2_FIFA_RANK</th>\n",
       "      <th>Team1_Result</th>\n",
       "      <th>Team1_Goalkeeper_Score</th>\n",
       "      <th>Team2_Goalkeeper_Score</th>\n",
       "      <th>Team1_Defense</th>\n",
       "      <th>Team1_Offense</th>\n",
       "      <th>Team1_Midfield</th>\n",
       "      <th>Team2_Defense</th>\n",
       "      <th>Team2_Offense</th>\n",
       "      <th>Team2_Midfield</th>\n",
       "    </tr>\n",
       "  </thead>\n",
       "  <tbody>\n",
       "    <tr>\n",
       "      <th>18637</th>\n",
       "      <td>Wales</td>\n",
       "      <td>Netherlands</td>\n",
       "      <td>18</td>\n",
       "      <td>10</td>\n",
       "      <td>0</td>\n",
       "      <td>74</td>\n",
       "      <td>81</td>\n",
       "      <td>75</td>\n",
       "      <td>73</td>\n",
       "      <td>78</td>\n",
       "      <td>85</td>\n",
       "      <td>83</td>\n",
       "      <td>84</td>\n",
       "    </tr>\n",
       "    <tr>\n",
       "      <th>18638</th>\n",
       "      <td>Belgium</td>\n",
       "      <td>Poland</td>\n",
       "      <td>2</td>\n",
       "      <td>26</td>\n",
       "      <td>1</td>\n",
       "      <td>89</td>\n",
       "      <td>87</td>\n",
       "      <td>81</td>\n",
       "      <td>86</td>\n",
       "      <td>86</td>\n",
       "      <td>75</td>\n",
       "      <td>85</td>\n",
       "      <td>76</td>\n",
       "    </tr>\n",
       "    <tr>\n",
       "      <th>18639</th>\n",
       "      <td>Ghana</td>\n",
       "      <td>Chile</td>\n",
       "      <td>60</td>\n",
       "      <td>28</td>\n",
       "      <td>1</td>\n",
       "      <td>74</td>\n",
       "      <td>79</td>\n",
       "      <td>76</td>\n",
       "      <td>76</td>\n",
       "      <td>78</td>\n",
       "      <td>76</td>\n",
       "      <td>77</td>\n",
       "      <td>78</td>\n",
       "    </tr>\n",
       "    <tr>\n",
       "      <th>18640</th>\n",
       "      <td>Tunisia</td>\n",
       "      <td>Japan</td>\n",
       "      <td>35</td>\n",
       "      <td>23</td>\n",
       "      <td>1</td>\n",
       "      <td>64</td>\n",
       "      <td>73</td>\n",
       "      <td>71</td>\n",
       "      <td>72</td>\n",
       "      <td>74</td>\n",
       "      <td>75</td>\n",
       "      <td>75</td>\n",
       "      <td>78</td>\n",
       "    </tr>\n",
       "    <tr>\n",
       "      <th>18641</th>\n",
       "      <td>Egypt</td>\n",
       "      <td>Korea Republic</td>\n",
       "      <td>32</td>\n",
       "      <td>29</td>\n",
       "      <td>0</td>\n",
       "      <td>70</td>\n",
       "      <td>75</td>\n",
       "      <td>70</td>\n",
       "      <td>79</td>\n",
       "      <td>71</td>\n",
       "      <td>73</td>\n",
       "      <td>80</td>\n",
       "      <td>74</td>\n",
       "    </tr>\n",
       "  </tbody>\n",
       "</table>\n",
       "</div>"
      ],
      "text/plain": [
       "         Team1           Team2  Team1_FIFA_RANK  Team2_FIFA_RANK  \\\n",
       "18637    Wales     Netherlands               18               10   \n",
       "18638  Belgium          Poland                2               26   \n",
       "18639    Ghana           Chile               60               28   \n",
       "18640  Tunisia           Japan               35               23   \n",
       "18641    Egypt  Korea Republic               32               29   \n",
       "\n",
       "       Team1_Result  Team1_Goalkeeper_Score  Team2_Goalkeeper_Score  \\\n",
       "18637             0                      74                      81   \n",
       "18638             1                      89                      87   \n",
       "18639             1                      74                      79   \n",
       "18640             1                      64                      73   \n",
       "18641             0                      70                      75   \n",
       "\n",
       "       Team1_Defense  Team1_Offense  Team1_Midfield  Team2_Defense  \\\n",
       "18637             75             73              78             85   \n",
       "18638             81             86              86             75   \n",
       "18639             76             76              78             76   \n",
       "18640             71             72              74             75   \n",
       "18641             70             79              71             73   \n",
       "\n",
       "       Team2_Offense  Team2_Midfield  \n",
       "18637             83              84  \n",
       "18638             85              76  \n",
       "18639             77              78  \n",
       "18640             75              78  \n",
       "18641             80              74  "
      ]
     },
     "execution_count": 25,
     "metadata": {},
     "output_type": "execute_result"
    }
   ],
   "source": [
    "#Interchanged Team1 and Team 2 details manually in ExtraData.csv to get accuracy results(We can alsoo skip this step)\n",
    "final_df = pd.read_csv(\"ExtraData.csv\")\n",
    "final_df.tail()"
   ]
  },
  {
   "cell_type": "markdown",
   "id": "a3af972e",
   "metadata": {},
   "source": [
    "### Modelling"
   ]
  },
  {
   "cell_type": "code",
   "execution_count": 26,
   "id": "18e05576",
   "metadata": {},
   "outputs": [],
   "source": [
    "#Saving DF for creating a pipeline model\n",
    "pipe_DF = final_df\n",
    "#Create dummies for categorical columns to verify the accuracy percentages\n",
    "final_df = pd.get_dummies(final_df)"
   ]
  },
  {
   "cell_type": "code",
   "execution_count": 27,
   "id": "cfeb956d",
   "metadata": {},
   "outputs": [],
   "source": [
    "#split X and y and train test split (For League Matches)\n",
    "X = final_df.drop('Team1_Result',axis=1)\n",
    "y = final_df['Team1_Result']"
   ]
  },
  {
   "cell_type": "code",
   "execution_count": 28,
   "id": "00fe38fe",
   "metadata": {},
   "outputs": [],
   "source": [
    "from sklearn.model_selection import train_test_split\n",
    "X_train, X_val, y_train, y_val = train_test_split(X, y, test_size=0.3, random_state=42)\n",
    "#Validtion and test set\n",
    "X_hold_test, X_test, y_hold_test, y_test = train_test_split(X_val, y_val, test_size=0.5, random_state=42)"
   ]
  },
  {
   "cell_type": "code",
   "execution_count": 29,
   "id": "7546d974",
   "metadata": {},
   "outputs": [],
   "source": [
    "#Scaling\n",
    "from sklearn.preprocessing import StandardScaler\n",
    "scaler = StandardScaler()\n",
    "X_train = scaler.fit_transform(X_train)\n",
    "X_test = scaler.transform(X_test)\n",
    "X_hold_test = scaler.transform(X_hold_test)"
   ]
  },
  {
   "cell_type": "code",
   "execution_count": 30,
   "id": "4f6cc6f1",
   "metadata": {},
   "outputs": [],
   "source": [
    "from sklearn.metrics import classification_report,ConfusionMatrixDisplay\n",
    "def metrics_display(model):\n",
    "    model.fit(X_train,y_train)\n",
    "    y_pred = model.predict(X_test)\n",
    "    print(classification_report(y_test,y_pred))\n",
    "    ConfusionMatrixDisplay.from_predictions(y_test,y_pred);"
   ]
  },
  {
   "cell_type": "code",
   "execution_count": 31,
   "id": "c0be965e",
   "metadata": {},
   "outputs": [
    {
     "name": "stdout",
     "output_type": "stream",
     "text": [
      "              precision    recall  f1-score   support\n",
      "\n",
      "           0       0.59      0.69      0.63      1048\n",
      "           1       0.60      0.68      0.63      1094\n",
      "           2       0.28      0.14      0.19       655\n",
      "\n",
      "    accuracy                           0.55      2797\n",
      "   macro avg       0.49      0.50      0.48      2797\n",
      "weighted avg       0.52      0.55      0.53      2797\n",
      "\n"
     ]
    },
    {
     "data": {
      "image/png": "[encoded data removed]",
      "text/plain": [
       "<Figure size 640x480 with 2 Axes>"
      ]
     },
     "metadata": {},
     "output_type": "display_data"
    }
   ],
   "source": [
    "#Random Forest \n",
    "from sklearn.ensemble import RandomForestClassifier\n",
    "metrics_display(RandomForestClassifier(n_estimators=50))"
   ]
  },
  {
   "cell_type": "code",
   "execution_count": 32,
   "id": "4750d458",
   "metadata": {},
   "outputs": [
    {
     "name": "stdout",
     "output_type": "stream",
     "text": [
      "              precision    recall  f1-score   support\n",
      "\n",
      "           0       0.59      0.75      0.66      1048\n",
      "           1       0.59      0.77      0.67      1094\n",
      "           2       0.46      0.03      0.05       655\n",
      "\n",
      "    accuracy                           0.59      2797\n",
      "   macro avg       0.55      0.52      0.46      2797\n",
      "weighted avg       0.56      0.59      0.52      2797\n",
      "\n"
     ]
    },
    {
     "data": {
      "image/png": "[encoded data removed]",
      "text/plain": [
       "<Figure size 640x480 with 2 Axes>"
      ]
     },
     "metadata": {},
     "output_type": "display_data"
    }
   ],
   "source": [
    "#Ada Boost Classifier\n",
    "from sklearn.ensemble import AdaBoostClassifier\n",
    "metrics_display(AdaBoostClassifier())"
   ]
  },
  {
   "cell_type": "code",
   "execution_count": 33,
   "id": "ac65cd6c",
   "metadata": {},
   "outputs": [
    {
     "name": "stdout",
     "output_type": "stream",
     "text": [
      "              precision    recall  f1-score   support\n",
      "\n",
      "           0       0.56      0.64      0.60      1045\n",
      "           1       0.62      0.65      0.64      1169\n",
      "           2       0.23      0.14      0.17       582\n",
      "\n",
      "    accuracy                           0.54      2796\n",
      "   macro avg       0.47      0.48      0.47      2796\n",
      "weighted avg       0.52      0.54      0.53      2796\n",
      "\n"
     ]
    },
    {
     "data": {
      "image/png": "[encoded data removed]",
      "text/plain": [
       "<Figure size 640x480 with 2 Axes>"
      ]
     },
     "metadata": {},
     "output_type": "display_data"
    }
   ],
   "source": [
    "#Checking the final score on testing the holdout test in RandomForest\n",
    "model = RandomForestClassifier(n_estimators=50)\n",
    "model.fit(X_train,y_train)\n",
    "y_pred = model.predict(X_hold_test)\n",
    "print(classification_report(y_hold_test,y_pred))\n",
    "ConfusionMatrixDisplay.from_predictions(y_hold_test,y_pred);"
   ]
  },
  {
   "cell_type": "markdown",
   "id": "62b15877",
   "metadata": {},
   "source": [
    "### Creating pipeline model for League matches"
   ]
  },
  {
   "cell_type": "code",
   "execution_count": 34,
   "id": "c2ce44e6",
   "metadata": {},
   "outputs": [],
   "source": [
    "from sklearn.preprocessing import OneHotEncoder\n",
    "from sklearn.compose import make_column_transformer\n",
    "column_trans = make_column_transformer(\n",
    "    (OneHotEncoder(),['Team1', 'Team2']),remainder='passthrough')"
   ]
  },
  {
   "cell_type": "code",
   "execution_count": 35,
   "id": "d81d5cdf",
   "metadata": {},
   "outputs": [],
   "source": [
    "pipe_X = pipe_DF.drop('Team1_Result',axis=1)\n",
    "pipe_y = pipe_DF['Team1_Result']"
   ]
  },
  {
   "cell_type": "code",
   "execution_count": 36,
   "id": "1f473234",
   "metadata": {},
   "outputs": [
    {
     "data": {
      "text/plain": [
       "Pipeline(steps=[('columntransformer',\n",
       "                 ColumnTransformer(remainder='passthrough',\n",
       "                                   transformers=[('onehotencoder',\n",
       "                                                  OneHotEncoder(),\n",
       "                                                  ['Team1', 'Team2'])])),\n",
       "                ('standardscaler', StandardScaler(with_mean=False)),\n",
       "                ('randomforestclassifier',\n",
       "                 RandomForestClassifier(n_estimators=50))])"
      ]
     },
     "execution_count": 36,
     "metadata": {},
     "output_type": "execute_result"
    }
   ],
   "source": [
    "from sklearn.pipeline import make_pipeline\n",
    "pipe_League = make_pipeline(column_trans,StandardScaler(with_mean=False),RandomForestClassifier(n_estimators=50))\n",
    "pipe_League.fit(pipe_X,pipe_y)"
   ]
  },
  {
   "cell_type": "markdown",
   "id": "0e7ca6a3",
   "metadata": {},
   "source": [
    "#### Saving the league model"
   ]
  },
  {
   "cell_type": "code",
   "execution_count": 37,
   "id": "13e4888d",
   "metadata": {},
   "outputs": [
    {
     "data": {
      "text/plain": [
       "['League_model.pkl']"
      ]
     },
     "execution_count": 37,
     "metadata": {},
     "output_type": "execute_result"
    }
   ],
   "source": [
    "import joblib\n",
    "joblib.dump(pipe_League,\"League_model.pkl\")"
   ]
  },
  {
   "cell_type": "markdown",
   "id": "04e97f80",
   "metadata": {},
   "source": [
    "### Modelling Knockout model"
   ]
  },
  {
   "cell_type": "code",
   "execution_count": 38,
   "id": "c4ed8e84",
   "metadata": {},
   "outputs": [],
   "source": [
    "#Predictions for Knockout Stage - Removing Draw status\n",
    "knock_df = pipe_DF[pipe_DF['Team1_Result'] != 2]"
   ]
  },
  {
   "cell_type": "code",
   "execution_count": 39,
   "id": "2eca2af1",
   "metadata": {},
   "outputs": [],
   "source": [
    "pipe_knock_df = knock_df\n",
    "knock_df = pd.get_dummies(knock_df)\n",
    "X = knock_df.drop('Team1_Result',axis=1)\n",
    "y = knock_df['Team1_Result']\n",
    "\n",
    "X_train, X_val, y_train, y_val = train_test_split(X, y, test_size=0.3, random_state=42)\n",
    "X_hold_test, X_test, y_hold_test, y_test = train_test_split(X_val, y_val, test_size=0.5, random_state=42)"
   ]
  },
  {
   "cell_type": "code",
   "execution_count": 40,
   "id": "4e1a2887",
   "metadata": {},
   "outputs": [
    {
     "name": "stdout",
     "output_type": "stream",
     "text": [
      "              precision    recall  f1-score   support\n",
      "\n",
      "           0       0.74      0.74      0.74      1082\n",
      "           1       0.74      0.74      0.74      1083\n",
      "\n",
      "    accuracy                           0.74      2165\n",
      "   macro avg       0.74      0.74      0.74      2165\n",
      "weighted avg       0.74      0.74      0.74      2165\n",
      "\n"
     ]
    },
    {
     "data": {
      "image/png": "[encoded data removed]",
      "text/plain": [
       "<Figure size 640x480 with 2 Axes>"
      ]
     },
     "metadata": {},
     "output_type": "display_data"
    }
   ],
   "source": [
    "metrics_display(RandomForestClassifier())"
   ]
  },
  {
   "cell_type": "code",
   "execution_count": 41,
   "id": "44ea8b02",
   "metadata": {},
   "outputs": [
    {
     "name": "stdout",
     "output_type": "stream",
     "text": [
      "              precision    recall  f1-score   support\n",
      "\n",
      "           0       0.73      0.75      0.74      1082\n",
      "           1       0.74      0.73      0.73      1083\n",
      "\n",
      "    accuracy                           0.74      2165\n",
      "   macro avg       0.74      0.74      0.74      2165\n",
      "weighted avg       0.74      0.74      0.74      2165\n",
      "\n"
     ]
    },
    {
     "data": {
      "image/png": "[encoded data removed]",
      "text/plain": [
       "<Figure size 640x480 with 2 Axes>"
      ]
     },
     "metadata": {},
     "output_type": "display_data"
    }
   ],
   "source": [
    "metrics_display(AdaBoostClassifier())"
   ]
  },
  {
   "cell_type": "code",
   "execution_count": 42,
   "id": "e7ea36ef",
   "metadata": {},
   "outputs": [
    {
     "name": "stdout",
     "output_type": "stream",
     "text": [
      "              precision    recall  f1-score   support\n",
      "\n",
      "           0       0.77      0.75      0.76      1082\n",
      "           1       0.75      0.77      0.76      1082\n",
      "\n",
      "    accuracy                           0.76      2164\n",
      "   macro avg       0.76      0.76      0.76      2164\n",
      "weighted avg       0.76      0.76      0.76      2164\n",
      "\n"
     ]
    },
    {
     "data": {
      "image/png": "[encoded data removed]",
      "text/plain": [
       "<Figure size 640x480 with 2 Axes>"
      ]
     },
     "metadata": {},
     "output_type": "display_data"
    }
   ],
   "source": [
    "#Random Forest is giving good accuracy, so testing with holdout test and finalising the model\n",
    "model = RandomForestClassifier()\n",
    "model.fit(X_train,y_train)\n",
    "y_pred = model.predict(X_hold_test)\n",
    "print(classification_report(y_hold_test,y_pred))\n",
    "ConfusionMatrixDisplay.from_predictions(y_hold_test,y_pred);"
   ]
  },
  {
   "cell_type": "markdown",
   "id": "7192d913",
   "metadata": {},
   "source": [
    "### Creating pipeline model for Knockout matches"
   ]
  },
  {
   "cell_type": "code",
   "execution_count": 43,
   "id": "c25f8fe3",
   "metadata": {},
   "outputs": [
    {
     "data": {
      "text/plain": [
       "Pipeline(steps=[('columntransformer',\n",
       "                 ColumnTransformer(remainder='passthrough',\n",
       "                                   transformers=[('onehotencoder',\n",
       "                                                  OneHotEncoder(),\n",
       "                                                  ['Team1', 'Team2'])])),\n",
       "                ('standardscaler', StandardScaler(with_mean=False)),\n",
       "                ('randomforestclassifier', RandomForestClassifier())])"
      ]
     },
     "execution_count": 43,
     "metadata": {},
     "output_type": "execute_result"
    }
   ],
   "source": [
    "pipe_X = pipe_knock_df.drop('Team1_Result',axis=1)\n",
    "pipe_y = pipe_knock_df['Team1_Result']\n",
    "pipe_knock = make_pipeline(column_trans,StandardScaler(with_mean=False),RandomForestClassifier())\n",
    "pipe_knock.fit(pipe_X,pipe_y)"
   ]
  },
  {
   "cell_type": "code",
   "execution_count": 44,
   "id": "4374bd6f",
   "metadata": {},
   "outputs": [
    {
     "data": {
      "text/plain": [
       "array([[0.3 , 0.7 ],\n",
       "       [0.08, 0.92],\n",
       "       [0.94, 0.06],\n",
       "       ...,\n",
       "       [0.26, 0.74],\n",
       "       [0.26, 0.74],\n",
       "       [0.85, 0.15]])"
      ]
     },
     "execution_count": 44,
     "metadata": {},
     "output_type": "execute_result"
    }
   ],
   "source": [
    "pipe_knock.predict_proba(pipe_X)"
   ]
  },
  {
   "cell_type": "markdown",
   "id": "97330f3d",
   "metadata": {},
   "source": [
    "#### Saving knockout model"
   ]
  },
  {
   "cell_type": "code",
   "execution_count": 45,
   "id": "35ae5151",
   "metadata": {},
   "outputs": [
    {
     "data": {
      "text/plain": [
       "['KnockOut_model.pkl']"
      ]
     },
     "execution_count": 45,
     "metadata": {},
     "output_type": "execute_result"
    }
   ],
   "source": [
    "joblib.dump(pipe_knock,\"KnockOut_model.pkl\")"
   ]
  },
  {
   "cell_type": "markdown",
   "id": "1edb9dd4",
   "metadata": {},
   "source": [
    "#### Saving column names"
   ]
  },
  {
   "cell_type": "code",
   "execution_count": 46,
   "id": "1b0d710e",
   "metadata": {},
   "outputs": [
    {
     "data": {
      "text/plain": [
       "Index(['Team1', 'Team2', 'Team1_FIFA_RANK', 'Team2_FIFA_RANK',\n",
       "       'Team1_Goalkeeper_Score', 'Team2_Goalkeeper_Score', 'Team1_Defense',\n",
       "       'Team1_Offense', 'Team1_Midfield', 'Team2_Defense', 'Team2_Offense',\n",
       "       'Team2_Midfield'],\n",
       "      dtype='object')"
      ]
     },
     "execution_count": 46,
     "metadata": {},
     "output_type": "execute_result"
    }
   ],
   "source": [
    "pipe_X.columns"
   ]
  },
  {
   "cell_type": "code",
   "execution_count": 47,
   "id": "343b492f",
   "metadata": {},
   "outputs": [
    {
     "data": {
      "text/plain": [
       "['col_names.pkl']"
      ]
     },
     "execution_count": 47,
     "metadata": {},
     "output_type": "execute_result"
    }
   ],
   "source": [
    "#Saving the column names\n",
    "joblib.dump(pipe_X.columns,\"col_names.pkl\")"
   ]
  },
  {
   "cell_type": "markdown",
   "id": "c9b6580f",
   "metadata": {},
   "source": [
    "# SIMULATOR"
   ]
  },
  {
   "cell_type": "markdown",
   "id": "607a7083",
   "metadata": {},
   "source": [
    "#### Load League, knockout models and column names"
   ]
  },
  {
   "cell_type": "code",
   "execution_count": 48,
   "id": "31d6a457",
   "metadata": {},
   "outputs": [],
   "source": [
    "league_model = joblib.load(\"League_model.pkl\")\n",
    "knockout_model = joblib.load(\"KnockOut_model.pkl\")\n",
    "col_names = joblib.load(\"col_names.pkl\")"
   ]
  },
  {
   "cell_type": "markdown",
   "id": "b26ceabe",
   "metadata": {},
   "source": [
    "#### Load current fifa rankings file"
   ]
  },
  {
   "cell_type": "code",
   "execution_count": 49,
   "id": "3a57d9b0",
   "metadata": {},
   "outputs": [],
   "source": [
    "rankings = pd.read_csv(\"FifaRankings.csv\")"
   ]
  },
  {
   "cell_type": "code",
   "execution_count": 50,
   "id": "d9a089cf",
   "metadata": {},
   "outputs": [
    {
     "data": {
      "text/html": [
       "<div>\n",
       "<style scoped>\n",
       "    .dataframe tbody tr th:only-of-type {\n",
       "        vertical-align: middle;\n",
       "    }\n",
       "\n",
       "    .dataframe tbody tr th {\n",
       "        vertical-align: top;\n",
       "    }\n",
       "\n",
       "    .dataframe thead th {\n",
       "        text-align: right;\n",
       "    }\n",
       "</style>\n",
       "<table border=\"1\" class=\"dataframe\">\n",
       "  <thead>\n",
       "    <tr style=\"text-align: right;\">\n",
       "      <th></th>\n",
       "      <th>Team</th>\n",
       "      <th>Rank</th>\n",
       "      <th>ATT</th>\n",
       "      <th>MID</th>\n",
       "      <th>DEF</th>\n",
       "      <th>GK</th>\n",
       "    </tr>\n",
       "  </thead>\n",
       "  <tbody>\n",
       "    <tr>\n",
       "      <th>0</th>\n",
       "      <td>Brazil</td>\n",
       "      <td>1</td>\n",
       "      <td>86.3</td>\n",
       "      <td>85.5</td>\n",
       "      <td>84.8</td>\n",
       "      <td>89</td>\n",
       "    </tr>\n",
       "    <tr>\n",
       "      <th>1</th>\n",
       "      <td>Belgium</td>\n",
       "      <td>2</td>\n",
       "      <td>85.7</td>\n",
       "      <td>85.5</td>\n",
       "      <td>80.8</td>\n",
       "      <td>89</td>\n",
       "    </tr>\n",
       "    <tr>\n",
       "      <th>2</th>\n",
       "      <td>France</td>\n",
       "      <td>4</td>\n",
       "      <td>88.3</td>\n",
       "      <td>86.8</td>\n",
       "      <td>84.2</td>\n",
       "      <td>87</td>\n",
       "    </tr>\n",
       "    <tr>\n",
       "      <th>3</th>\n",
       "      <td>Argentina</td>\n",
       "      <td>3</td>\n",
       "      <td>89.0</td>\n",
       "      <td>84.0</td>\n",
       "      <td>82.2</td>\n",
       "      <td>84</td>\n",
       "    </tr>\n",
       "    <tr>\n",
       "      <th>4</th>\n",
       "      <td>England</td>\n",
       "      <td>5</td>\n",
       "      <td>88.0</td>\n",
       "      <td>84.0</td>\n",
       "      <td>85.0</td>\n",
       "      <td>83</td>\n",
       "    </tr>\n",
       "  </tbody>\n",
       "</table>\n",
       "</div>"
      ],
      "text/plain": [
       "        Team  Rank   ATT   MID   DEF  GK\n",
       "0     Brazil     1  86.3  85.5  84.8  89\n",
       "1    Belgium     2  85.7  85.5  80.8  89\n",
       "2     France     4  88.3  86.8  84.2  87\n",
       "3  Argentina     3  89.0  84.0  82.2  84\n",
       "4    England     5  88.0  84.0  85.0  83"
      ]
     },
     "execution_count": 50,
     "metadata": {},
     "output_type": "execute_result"
    }
   ],
   "source": [
    "rankings.head()"
   ]
  },
  {
   "cell_type": "markdown",
   "id": "0bbe4db1",
   "metadata": {},
   "source": [
    "#### Create a function to return dataframe of values when we input Team1 and Team2"
   ]
  },
  {
   "cell_type": "code",
   "execution_count": 51,
   "id": "dfd5a962",
   "metadata": {},
   "outputs": [],
   "source": [
    "def TeamList(Team1, Team2):\n",
    "    Team1_FIFA_RANK = rankings[rankings[\"Team\"] == Team1]['Rank'].to_list()[0]\n",
    "    Team2_FIFA_RANK = rankings[rankings[\"Team\"] == Team2]['Rank'].to_list()[0]\n",
    "    Team1_Goalkeeper_Score = rankings[rankings[\"Team\"] == Team1]['GK'].to_list()[0]\n",
    "    Team1_Defense = rankings[rankings[\"Team\"] == Team1]['DEF'].to_list()[0]\n",
    "    Team1_Offense = rankings[rankings[\"Team\"] == Team1]['ATT'].to_list()[0]\n",
    "    Team1_Midfield = rankings[rankings[\"Team\"] == Team1]['MID'].to_list()[0]\n",
    "    Team2_Goalkeeper_Score = rankings[rankings[\"Team\"] == Team2]['GK'].to_list()[0]\n",
    "    Team2_Defense = rankings[rankings[\"Team\"] == Team2]['DEF'].to_list()[0]\n",
    "    Team2_Offense = rankings[rankings[\"Team\"] == Team2]['ATT'].to_list()[0]\n",
    "    Team2_Midfield = rankings[rankings[\"Team\"] == Team2]['MID'].to_list()[0]\n",
    "    list_value = [[Team1, Team2, Team1_FIFA_RANK, Team2_FIFA_RANK, Team1_Goalkeeper_Score, Team2_Goalkeeper_Score, Team1_Defense, Team1_Offense, Team1_Midfield, Team2_Defense, Team2_Offense, Team2_Midfield]]\n",
    "    df = pd.DataFrame(data=list_value,columns=col_names)\n",
    "    return df"
   ]
  },
  {
   "cell_type": "code",
   "execution_count": 52,
   "id": "e41413b1",
   "metadata": {},
   "outputs": [
    {
     "data": {
      "text/html": [
       "<div>\n",
       "<style scoped>\n",
       "    .dataframe tbody tr th:only-of-type {\n",
       "        vertical-align: middle;\n",
       "    }\n",
       "\n",
       "    .dataframe tbody tr th {\n",
       "        vertical-align: top;\n",
       "    }\n",
       "\n",
       "    .dataframe thead th {\n",
       "        text-align: right;\n",
       "    }\n",
       "</style>\n",
       "<table border=\"1\" class=\"dataframe\">\n",
       "  <thead>\n",
       "    <tr style=\"text-align: right;\">\n",
       "      <th></th>\n",
       "      <th>Team1</th>\n",
       "      <th>Team2</th>\n",
       "      <th>Team1_FIFA_RANK</th>\n",
       "      <th>Team2_FIFA_RANK</th>\n",
       "      <th>Team1_Goalkeeper_Score</th>\n",
       "      <th>Team2_Goalkeeper_Score</th>\n",
       "      <th>Team1_Defense</th>\n",
       "      <th>Team1_Offense</th>\n",
       "      <th>Team1_Midfield</th>\n",
       "      <th>Team2_Defense</th>\n",
       "      <th>Team2_Offense</th>\n",
       "      <th>Team2_Midfield</th>\n",
       "    </tr>\n",
       "  </thead>\n",
       "  <tbody>\n",
       "    <tr>\n",
       "      <th>0</th>\n",
       "      <td>Brazil</td>\n",
       "      <td>Spain</td>\n",
       "      <td>1</td>\n",
       "      <td>6</td>\n",
       "      <td>89</td>\n",
       "      <td>84</td>\n",
       "      <td>84.8</td>\n",
       "      <td>86.3</td>\n",
       "      <td>85.5</td>\n",
       "      <td>86.5</td>\n",
       "      <td>85.0</td>\n",
       "      <td>86.0</td>\n",
       "    </tr>\n",
       "  </tbody>\n",
       "</table>\n",
       "</div>"
      ],
      "text/plain": [
       "    Team1  Team2  Team1_FIFA_RANK  Team2_FIFA_RANK  Team1_Goalkeeper_Score  \\\n",
       "0  Brazil  Spain                1                6                      89   \n",
       "\n",
       "   Team2_Goalkeeper_Score  Team1_Defense  Team1_Offense  Team1_Midfield  \\\n",
       "0                      84           84.8           86.3            85.5   \n",
       "\n",
       "   Team2_Defense  Team2_Offense  Team2_Midfield  \n",
       "0           86.5           85.0            86.0  "
      ]
     },
     "execution_count": 52,
     "metadata": {},
     "output_type": "execute_result"
    }
   ],
   "source": [
    "#Checking the function is working fine\n",
    "TeamList(\"Brazil\", \"Spain\")"
   ]
  },
  {
   "cell_type": "markdown",
   "id": "b6c47d64",
   "metadata": {},
   "source": [
    "### Creating a function to return the League match result when Team1 and Team2 are inputed"
   ]
  },
  {
   "cell_type": "code",
   "execution_count": 53,
   "id": "a4aabb8c",
   "metadata": {},
   "outputs": [],
   "source": [
    "#Team1 - 'Win':1, 'Draw':2, 'Lose':0\n",
    "def league_model_result(Team1, Team2):\n",
    "    result = league_model.predict(TeamList(Team1,Team2))\n",
    "    proba = league_model.predict_proba(TeamList(Team1,Team2))\n",
    "    if result == 0:\n",
    "        return Team2, proba[0][0]\n",
    "    if result == 1:\n",
    "        return Team1, proba[0][1]\n",
    "    if result == 2:\n",
    "        return \"Draw\", proba[0][2]"
   ]
  },
  {
   "cell_type": "code",
   "execution_count": 54,
   "id": "14f01deb",
   "metadata": {},
   "outputs": [
    {
     "data": {
      "text/plain": [
       "('Argentina', 0.42)"
      ]
     },
     "execution_count": 54,
     "metadata": {},
     "output_type": "execute_result"
    }
   ],
   "source": [
    "# checking if the function is working fine\n",
    "league_model_result(\"Spain\", \"Argentina\")"
   ]
  },
  {
   "cell_type": "code",
   "execution_count": 55,
   "id": "a9f03bfd",
   "metadata": {},
   "outputs": [
    {
     "data": {
      "text/plain": [
       "('Draw', 0.56)"
      ]
     },
     "execution_count": 55,
     "metadata": {},
     "output_type": "execute_result"
    }
   ],
   "source": [
    "league_model_result(\"Brazil\", \"Argentina\")"
   ]
  },
  {
   "cell_type": "markdown",
   "id": "eb6c6ef1",
   "metadata": {},
   "source": [
    "### Creating a function to return the Knockout match result when Team1 and Team2 are inputed"
   ]
  },
  {
   "cell_type": "code",
   "execution_count": 56,
   "id": "f69cbbf1",
   "metadata": {},
   "outputs": [],
   "source": [
    "#Team1 - 'Win':1,'Lose':0\n",
    "def knockout_result(Team1, Team2):\n",
    "    result = knockout_model.predict(TeamList(Team1, Team2))\n",
    "    proba = knockout_model.predict_proba(TeamList(Team1,Team2))\n",
    "    if result == 0:\n",
    "        return Team2, proba[0][0]\n",
    "    if result == 1:\n",
    "        return Team1, proba[0][1]"
   ]
  },
  {
   "cell_type": "code",
   "execution_count": 57,
   "id": "0717178b",
   "metadata": {},
   "outputs": [
    {
     "data": {
      "text/plain": [
       "('France', 0.7093333333333333)"
      ]
     },
     "execution_count": 57,
     "metadata": {},
     "output_type": "execute_result"
    }
   ],
   "source": [
    "# checking if the function is working fine\n",
    "knockout_result(\"France\", \"Brazil\")"
   ]
  },
  {
   "cell_type": "code",
   "execution_count": 58,
   "id": "39ad5288",
   "metadata": {},
   "outputs": [
    {
     "data": {
      "text/plain": [
       "('Argentina', 0.5166666666666666)"
      ]
     },
     "execution_count": 58,
     "metadata": {},
     "output_type": "execute_result"
    }
   ],
   "source": [
    "knockout_result(\"Brazil\", \"Argentina\")"
   ]
  },
  {
   "cell_type": "markdown",
   "id": "d575edd3",
   "metadata": {},
   "source": [
    "## Simulating League Rounds"
   ]
  },
  {
   "cell_type": "markdown",
   "id": "1fd1a779",
   "metadata": {},
   "source": [
    "### Function to simulate league round - All teams in the group will play against all other teams in the group and top 2 will be considered as winner"
   ]
  },
  {
   "cell_type": "code",
   "execution_count": 59,
   "id": "fd849195",
   "metadata": {},
   "outputs": [],
   "source": [
    "def League_round(Team1, Team2, Team3, Team4):\n",
    "    match1 = league_model_result(Team1, Team2)\n",
    "    match2 = league_model_result(Team1, Team3)\n",
    "    match3 = league_model_result(Team1, Team4)\n",
    "    match4 = league_model_result(Team2, Team3)\n",
    "    match5 = league_model_result(Team2, Team4)\n",
    "    match6 = league_model_result(Team3, Team4)\n",
    "    Points = [match1[0],match2[0],match3[0],match4[0],match5[0],match6[0]]\n",
    "    Team1_points = Points.count(Team1) * 3\n",
    "    Team2_points = Points.count(Team2) * 3\n",
    "    Team3_points = Points.count(Team3) * 3\n",
    "    Team4_points = Points.count(Team4) * 3\n",
    "    if match1 == \"Draw\":\n",
    "        Team1_points,Team2_points = Team1_points+1,Team2_points+1\n",
    "    if match2 == \"Draw\":\n",
    "        Team1_points,Team3_points = Team1_points+1,Team3_points+1\n",
    "    if match3 == \"Draw\":\n",
    "        Team1_points,Team4_points = Team1_points+1,Team4_points+1\n",
    "    if match4 == \"Draw\":\n",
    "        Team2_points,Team3_points = Team2_points+1,Team3_points+1\n",
    "    if match5 == \"Draw\":\n",
    "        Team2_points,Team4_points = Team2_points+1,Team4_points+1\n",
    "    if match6 == \"Draw\":\n",
    "        Team3_points,Team4_points = Team3_points+1,Team4_points+1\n",
    "    dict = {Team1:Team1_points,Team2:Team2_points,Team3:Team3_points,Team4:Team4_points}\n",
    "    grp_winners = pd.DataFrame(list(dict.items()),columns=['Team','Points']).sort_values('Points',ascending=False)[0:2]\n",
    "    return grp_winners"
   ]
  },
  {
   "cell_type": "code",
   "execution_count": 60,
   "id": "229e0ad0",
   "metadata": {},
   "outputs": [
    {
     "data": {
      "text/html": [
       "<div>\n",
       "<style scoped>\n",
       "    .dataframe tbody tr th:only-of-type {\n",
       "        vertical-align: middle;\n",
       "    }\n",
       "\n",
       "    .dataframe tbody tr th {\n",
       "        vertical-align: top;\n",
       "    }\n",
       "\n",
       "    .dataframe thead th {\n",
       "        text-align: right;\n",
       "    }\n",
       "</style>\n",
       "<table border=\"1\" class=\"dataframe\">\n",
       "  <thead>\n",
       "    <tr style=\"text-align: right;\">\n",
       "      <th></th>\n",
       "      <th>Team</th>\n",
       "      <th>Points</th>\n",
       "    </tr>\n",
       "  </thead>\n",
       "  <tbody>\n",
       "    <tr>\n",
       "      <th>3</th>\n",
       "      <td>Netherlands</td>\n",
       "      <td>9</td>\n",
       "    </tr>\n",
       "    <tr>\n",
       "      <th>2</th>\n",
       "      <td>Senegal</td>\n",
       "      <td>6</td>\n",
       "    </tr>\n",
       "  </tbody>\n",
       "</table>\n",
       "</div>"
      ],
      "text/plain": [
       "          Team  Points\n",
       "3  Netherlands       9\n",
       "2      Senegal       6"
      ]
     },
     "execution_count": 60,
     "metadata": {},
     "output_type": "execute_result"
    }
   ],
   "source": [
    "#checking if function is working fine\n",
    "League_round(\"Qatar\", \"Ecuador\",\"Senegal\",\"Netherlands\")"
   ]
  },
  {
   "cell_type": "markdown",
   "id": "0dd7a254",
   "metadata": {},
   "source": [
    "### Simulating League round results"
   ]
  },
  {
   "cell_type": "code",
   "execution_count": 61,
   "id": "b0ffd2d4",
   "metadata": {},
   "outputs": [
    {
     "data": {
      "text/html": [
       "<div>\n",
       "<style scoped>\n",
       "    .dataframe tbody tr th:only-of-type {\n",
       "        vertical-align: middle;\n",
       "    }\n",
       "\n",
       "    .dataframe tbody tr th {\n",
       "        vertical-align: top;\n",
       "    }\n",
       "\n",
       "    .dataframe thead th {\n",
       "        text-align: right;\n",
       "    }\n",
       "</style>\n",
       "<table border=\"1\" class=\"dataframe\">\n",
       "  <thead>\n",
       "    <tr style=\"text-align: right;\">\n",
       "      <th></th>\n",
       "      <th>Team</th>\n",
       "      <th>Points</th>\n",
       "    </tr>\n",
       "  </thead>\n",
       "  <tbody>\n",
       "    <tr>\n",
       "      <th>3</th>\n",
       "      <td>Netherlands</td>\n",
       "      <td>9</td>\n",
       "    </tr>\n",
       "    <tr>\n",
       "      <th>2</th>\n",
       "      <td>Senegal</td>\n",
       "      <td>6</td>\n",
       "    </tr>\n",
       "  </tbody>\n",
       "</table>\n",
       "</div>"
      ],
      "text/plain": [
       "          Team  Points\n",
       "3  Netherlands       9\n",
       "2      Senegal       6"
      ]
     },
     "execution_count": 61,
     "metadata": {},
     "output_type": "execute_result"
    }
   ],
   "source": [
    "Group_A_Winners = League_round(\"Qatar\", \"Ecuador\",\"Senegal\",\"Netherlands\")\n",
    "Group_A_Winners"
   ]
  },
  {
   "cell_type": "code",
   "execution_count": 62,
   "id": "ff57d10b",
   "metadata": {},
   "outputs": [
    {
     "data": {
      "text/html": [
       "<div>\n",
       "<style scoped>\n",
       "    .dataframe tbody tr th:only-of-type {\n",
       "        vertical-align: middle;\n",
       "    }\n",
       "\n",
       "    .dataframe tbody tr th {\n",
       "        vertical-align: top;\n",
       "    }\n",
       "\n",
       "    .dataframe thead th {\n",
       "        text-align: right;\n",
       "    }\n",
       "</style>\n",
       "<table border=\"1\" class=\"dataframe\">\n",
       "  <thead>\n",
       "    <tr style=\"text-align: right;\">\n",
       "      <th></th>\n",
       "      <th>Team</th>\n",
       "      <th>Points</th>\n",
       "    </tr>\n",
       "  </thead>\n",
       "  <tbody>\n",
       "    <tr>\n",
       "      <th>0</th>\n",
       "      <td>England</td>\n",
       "      <td>9</td>\n",
       "    </tr>\n",
       "    <tr>\n",
       "      <th>2</th>\n",
       "      <td>USA</td>\n",
       "      <td>6</td>\n",
       "    </tr>\n",
       "  </tbody>\n",
       "</table>\n",
       "</div>"
      ],
      "text/plain": [
       "      Team  Points\n",
       "0  England       9\n",
       "2      USA       6"
      ]
     },
     "execution_count": 62,
     "metadata": {},
     "output_type": "execute_result"
    }
   ],
   "source": [
    "Group_B_Winners = League_round(\"England\",\"IR Iran\", \"USA\", \"Wales\")\n",
    "Group_B_Winners"
   ]
  },
  {
   "cell_type": "code",
   "execution_count": 63,
   "id": "5fe28b3f",
   "metadata": {},
   "outputs": [
    {
     "data": {
      "text/html": [
       "<div>\n",
       "<style scoped>\n",
       "    .dataframe tbody tr th:only-of-type {\n",
       "        vertical-align: middle;\n",
       "    }\n",
       "\n",
       "    .dataframe tbody tr th {\n",
       "        vertical-align: top;\n",
       "    }\n",
       "\n",
       "    .dataframe thead th {\n",
       "        text-align: right;\n",
       "    }\n",
       "</style>\n",
       "<table border=\"1\" class=\"dataframe\">\n",
       "  <thead>\n",
       "    <tr style=\"text-align: right;\">\n",
       "      <th></th>\n",
       "      <th>index</th>\n",
       "      <th>Team</th>\n",
       "      <th>Points</th>\n",
       "    </tr>\n",
       "  </thead>\n",
       "  <tbody>\n",
       "    <tr>\n",
       "      <th>0</th>\n",
       "      <td>0</td>\n",
       "      <td>Argentina</td>\n",
       "      <td>9</td>\n",
       "    </tr>\n",
       "    <tr>\n",
       "      <th>1</th>\n",
       "      <td>3</td>\n",
       "      <td>Poland</td>\n",
       "      <td>6</td>\n",
       "    </tr>\n",
       "  </tbody>\n",
       "</table>\n",
       "</div>"
      ],
      "text/plain": [
       "   index       Team  Points\n",
       "0      0  Argentina       9\n",
       "1      3     Poland       6"
      ]
     },
     "execution_count": 63,
     "metadata": {},
     "output_type": "execute_result"
    }
   ],
   "source": [
    "Group_C_Winners = League_round(\"Argentina\",\"Saudi Arabia\", \"Mexico\",\"Poland\")\n",
    "Group_C_Winners.reset_index()"
   ]
  },
  {
   "cell_type": "code",
   "execution_count": 64,
   "id": "e2756aef",
   "metadata": {},
   "outputs": [
    {
     "data": {
      "text/html": [
       "<div>\n",
       "<style scoped>\n",
       "    .dataframe tbody tr th:only-of-type {\n",
       "        vertical-align: middle;\n",
       "    }\n",
       "\n",
       "    .dataframe tbody tr th {\n",
       "        vertical-align: top;\n",
       "    }\n",
       "\n",
       "    .dataframe thead th {\n",
       "        text-align: right;\n",
       "    }\n",
       "</style>\n",
       "<table border=\"1\" class=\"dataframe\">\n",
       "  <thead>\n",
       "    <tr style=\"text-align: right;\">\n",
       "      <th></th>\n",
       "      <th>index</th>\n",
       "      <th>Team</th>\n",
       "      <th>Points</th>\n",
       "    </tr>\n",
       "  </thead>\n",
       "  <tbody>\n",
       "    <tr>\n",
       "      <th>0</th>\n",
       "      <td>2</td>\n",
       "      <td>Denmark</td>\n",
       "      <td>9</td>\n",
       "    </tr>\n",
       "    <tr>\n",
       "      <th>1</th>\n",
       "      <td>0</td>\n",
       "      <td>France</td>\n",
       "      <td>6</td>\n",
       "    </tr>\n",
       "  </tbody>\n",
       "</table>\n",
       "</div>"
      ],
      "text/plain": [
       "   index     Team  Points\n",
       "0      2  Denmark       9\n",
       "1      0   France       6"
      ]
     },
     "execution_count": 64,
     "metadata": {},
     "output_type": "execute_result"
    }
   ],
   "source": [
    "Group_D_Winners = League_round(\"France\",\"Australia\",\"Denmark\",\"Tunisia\")\n",
    "Group_D_Winners.reset_index()"
   ]
  },
  {
   "cell_type": "code",
   "execution_count": 65,
   "id": "6f8d12a0",
   "metadata": {},
   "outputs": [
    {
     "data": {
      "text/html": [
       "<div>\n",
       "<style scoped>\n",
       "    .dataframe tbody tr th:only-of-type {\n",
       "        vertical-align: middle;\n",
       "    }\n",
       "\n",
       "    .dataframe tbody tr th {\n",
       "        vertical-align: top;\n",
       "    }\n",
       "\n",
       "    .dataframe thead th {\n",
       "        text-align: right;\n",
       "    }\n",
       "</style>\n",
       "<table border=\"1\" class=\"dataframe\">\n",
       "  <thead>\n",
       "    <tr style=\"text-align: right;\">\n",
       "      <th></th>\n",
       "      <th>index</th>\n",
       "      <th>Team</th>\n",
       "      <th>Points</th>\n",
       "    </tr>\n",
       "  </thead>\n",
       "  <tbody>\n",
       "    <tr>\n",
       "      <th>0</th>\n",
       "      <td>0</td>\n",
       "      <td>Spain</td>\n",
       "      <td>6</td>\n",
       "    </tr>\n",
       "    <tr>\n",
       "      <th>1</th>\n",
       "      <td>2</td>\n",
       "      <td>Germany</td>\n",
       "      <td>6</td>\n",
       "    </tr>\n",
       "  </tbody>\n",
       "</table>\n",
       "</div>"
      ],
      "text/plain": [
       "   index     Team  Points\n",
       "0      0    Spain       6\n",
       "1      2  Germany       6"
      ]
     },
     "execution_count": 65,
     "metadata": {},
     "output_type": "execute_result"
    }
   ],
   "source": [
    "Group_E_Winners = League_round(\"Spain\",\"Costa Rica\",\"Germany\",\"Japan\")\n",
    "Group_E_Winners.reset_index()"
   ]
  },
  {
   "cell_type": "code",
   "execution_count": 66,
   "id": "0befad29",
   "metadata": {},
   "outputs": [
    {
     "data": {
      "text/html": [
       "<div>\n",
       "<style scoped>\n",
       "    .dataframe tbody tr th:only-of-type {\n",
       "        vertical-align: middle;\n",
       "    }\n",
       "\n",
       "    .dataframe tbody tr th {\n",
       "        vertical-align: top;\n",
       "    }\n",
       "\n",
       "    .dataframe thead th {\n",
       "        text-align: right;\n",
       "    }\n",
       "</style>\n",
       "<table border=\"1\" class=\"dataframe\">\n",
       "  <thead>\n",
       "    <tr style=\"text-align: right;\">\n",
       "      <th></th>\n",
       "      <th>index</th>\n",
       "      <th>Team</th>\n",
       "      <th>Points</th>\n",
       "    </tr>\n",
       "  </thead>\n",
       "  <tbody>\n",
       "    <tr>\n",
       "      <th>0</th>\n",
       "      <td>0</td>\n",
       "      <td>Belgium</td>\n",
       "      <td>9</td>\n",
       "    </tr>\n",
       "    <tr>\n",
       "      <th>1</th>\n",
       "      <td>2</td>\n",
       "      <td>Morocco</td>\n",
       "      <td>3</td>\n",
       "    </tr>\n",
       "  </tbody>\n",
       "</table>\n",
       "</div>"
      ],
      "text/plain": [
       "   index     Team  Points\n",
       "0      0  Belgium       9\n",
       "1      2  Morocco       3"
      ]
     },
     "execution_count": 66,
     "metadata": {},
     "output_type": "execute_result"
    }
   ],
   "source": [
    "Group_F_Winners = League_round(\"Belgium\",\"Canada\",\"Morocco\",\"Croatia\")\n",
    "Group_F_Winners.reset_index()"
   ]
  },
  {
   "cell_type": "code",
   "execution_count": 67,
   "id": "acdfc262",
   "metadata": {},
   "outputs": [
    {
     "data": {
      "text/html": [
       "<div>\n",
       "<style scoped>\n",
       "    .dataframe tbody tr th:only-of-type {\n",
       "        vertical-align: middle;\n",
       "    }\n",
       "\n",
       "    .dataframe tbody tr th {\n",
       "        vertical-align: top;\n",
       "    }\n",
       "\n",
       "    .dataframe thead th {\n",
       "        text-align: right;\n",
       "    }\n",
       "</style>\n",
       "<table border=\"1\" class=\"dataframe\">\n",
       "  <thead>\n",
       "    <tr style=\"text-align: right;\">\n",
       "      <th></th>\n",
       "      <th>index</th>\n",
       "      <th>Team</th>\n",
       "      <th>Points</th>\n",
       "    </tr>\n",
       "  </thead>\n",
       "  <tbody>\n",
       "    <tr>\n",
       "      <th>0</th>\n",
       "      <td>0</td>\n",
       "      <td>Brazil</td>\n",
       "      <td>9</td>\n",
       "    </tr>\n",
       "    <tr>\n",
       "      <th>1</th>\n",
       "      <td>1</td>\n",
       "      <td>Serbia</td>\n",
       "      <td>6</td>\n",
       "    </tr>\n",
       "  </tbody>\n",
       "</table>\n",
       "</div>"
      ],
      "text/plain": [
       "   index    Team  Points\n",
       "0      0  Brazil       9\n",
       "1      1  Serbia       6"
      ]
     },
     "execution_count": 67,
     "metadata": {},
     "output_type": "execute_result"
    }
   ],
   "source": [
    "Group_G_Winners = League_round(\"Brazil\",\"Serbia\",\"Switzerland\",\"Cameroon\")\n",
    "Group_G_Winners.reset_index()"
   ]
  },
  {
   "cell_type": "code",
   "execution_count": 68,
   "id": "f4e73e71",
   "metadata": {},
   "outputs": [
    {
     "data": {
      "text/html": [
       "<div>\n",
       "<style scoped>\n",
       "    .dataframe tbody tr th:only-of-type {\n",
       "        vertical-align: middle;\n",
       "    }\n",
       "\n",
       "    .dataframe tbody tr th {\n",
       "        vertical-align: top;\n",
       "    }\n",
       "\n",
       "    .dataframe thead th {\n",
       "        text-align: right;\n",
       "    }\n",
       "</style>\n",
       "<table border=\"1\" class=\"dataframe\">\n",
       "  <thead>\n",
       "    <tr style=\"text-align: right;\">\n",
       "      <th></th>\n",
       "      <th>index</th>\n",
       "      <th>Team</th>\n",
       "      <th>Points</th>\n",
       "    </tr>\n",
       "  </thead>\n",
       "  <tbody>\n",
       "    <tr>\n",
       "      <th>0</th>\n",
       "      <td>0</td>\n",
       "      <td>Portugal</td>\n",
       "      <td>9</td>\n",
       "    </tr>\n",
       "    <tr>\n",
       "      <th>1</th>\n",
       "      <td>2</td>\n",
       "      <td>Uruguay</td>\n",
       "      <td>6</td>\n",
       "    </tr>\n",
       "  </tbody>\n",
       "</table>\n",
       "</div>"
      ],
      "text/plain": [
       "   index      Team  Points\n",
       "0      0  Portugal       9\n",
       "1      2   Uruguay       6"
      ]
     },
     "execution_count": 68,
     "metadata": {},
     "output_type": "execute_result"
    }
   ],
   "source": [
    "Group_H_Winners = League_round(\"Portugal\",\"Ghana\",\"Uruguay\",\"Korea Republic\")\n",
    "Group_H_Winners.reset_index()"
   ]
  },
  {
   "cell_type": "markdown",
   "id": "e2875265",
   "metadata": {},
   "source": [
    "### Simulating Knockout matches -Round of 16"
   ]
  },
  {
   "cell_type": "code",
   "execution_count": 69,
   "id": "264e69f9",
   "metadata": {},
   "outputs": [
    {
     "data": {
      "text/plain": [
       "('Netherlands', 0.73)"
      ]
     },
     "execution_count": 69,
     "metadata": {},
     "output_type": "execute_result"
    }
   ],
   "source": [
    "#Grp1A, Grp2B\n",
    "W49 = knockout_result(Group_A_Winners['Team'].iloc[0], Group_B_Winners['Team'].iloc[1])\n",
    "W49"
   ]
  },
  {
   "cell_type": "code",
   "execution_count": 70,
   "id": "18874f8f",
   "metadata": {},
   "outputs": [
    {
     "data": {
      "text/plain": [
       "('France', 0.53)"
      ]
     },
     "execution_count": 70,
     "metadata": {},
     "output_type": "execute_result"
    }
   ],
   "source": [
    "#Grp1C, Grp2D\n",
    "W50 = knockout_result(Group_C_Winners['Team'].iloc[0], Group_D_Winners['Team'].iloc[1])\n",
    "W50"
   ]
  },
  {
   "cell_type": "code",
   "execution_count": 71,
   "id": "a5b11c63",
   "metadata": {},
   "outputs": [
    {
     "data": {
      "text/plain": [
       "('England', 0.61)"
      ]
     },
     "execution_count": 71,
     "metadata": {},
     "output_type": "execute_result"
    }
   ],
   "source": [
    "#Grp1B, Grp2A\n",
    "W51 = knockout_result(Group_B_Winners['Team'].iloc[0], Group_A_Winners['Team'].iloc[1])\n",
    "W51"
   ]
  },
  {
   "cell_type": "code",
   "execution_count": 72,
   "id": "fa4eb4d8",
   "metadata": {},
   "outputs": [
    {
     "data": {
      "text/plain": [
       "('Denmark', 0.63)"
      ]
     },
     "execution_count": 72,
     "metadata": {},
     "output_type": "execute_result"
    }
   ],
   "source": [
    "#Grp1D, Grp2C\n",
    "W52 = knockout_result(Group_D_Winners['Team'].iloc[0], Group_C_Winners['Team'].iloc[1])\n",
    "W52"
   ]
  },
  {
   "cell_type": "code",
   "execution_count": 73,
   "id": "a4a51eea",
   "metadata": {},
   "outputs": [
    {
     "data": {
      "text/plain": [
       "('Spain', 0.6523333333333332)"
      ]
     },
     "execution_count": 73,
     "metadata": {},
     "output_type": "execute_result"
    }
   ],
   "source": [
    "#Grp1E, Grp2F\n",
    "W53 = knockout_result(Group_E_Winners['Team'].iloc[0], Group_F_Winners['Team'].iloc[1])\n",
    "W53"
   ]
  },
  {
   "cell_type": "code",
   "execution_count": 74,
   "id": "3e771e61",
   "metadata": {},
   "outputs": [
    {
     "data": {
      "text/plain": [
       "('Brazil', 0.95)"
      ]
     },
     "execution_count": 74,
     "metadata": {},
     "output_type": "execute_result"
    }
   ],
   "source": [
    "#Grp1G, Grp2H\n",
    "W54 = knockout_result(Group_G_Winners['Team'].iloc[0], Group_H_Winners['Team'].iloc[1])\n",
    "W54"
   ]
  },
  {
   "cell_type": "code",
   "execution_count": 75,
   "id": "975db09c",
   "metadata": {},
   "outputs": [
    {
     "data": {
      "text/plain": [
       "('Germany', 0.58)"
      ]
     },
     "execution_count": 75,
     "metadata": {},
     "output_type": "execute_result"
    }
   ],
   "source": [
    "#Grp1F, Grp2E\n",
    "W55 = knockout_result(Group_F_Winners['Team'].iloc[0], Group_E_Winners['Team'].iloc[1])\n",
    "W55"
   ]
  },
  {
   "cell_type": "code",
   "execution_count": 76,
   "id": "0b25f36b",
   "metadata": {},
   "outputs": [
    {
     "data": {
      "text/plain": [
       "('Serbia', 0.73)"
      ]
     },
     "execution_count": 76,
     "metadata": {},
     "output_type": "execute_result"
    }
   ],
   "source": [
    "#Grp1H, Grp2G\n",
    "W56 = knockout_result(Group_H_Winners['Team'].iloc[0], Group_G_Winners['Team'].iloc[1])\n",
    "W56"
   ]
  },
  {
   "cell_type": "markdown",
   "id": "971f3ee0",
   "metadata": {},
   "source": [
    "### Round of 16 Winners"
   ]
  },
  {
   "cell_type": "code",
   "execution_count": 77,
   "id": "070857f0",
   "metadata": {},
   "outputs": [
    {
     "name": "stdout",
     "output_type": "stream",
     "text": [
      " ('Netherlands', 0.73) \n",
      " ('France', 0.53) \n",
      " ('England', 0.61) \n",
      " ('Denmark', 0.63) \n",
      " ('Spain', 0.6523333333333332) \n",
      " ('Brazil', 0.95) \n",
      " ('Germany', 0.58) \n",
      " ('Serbia', 0.73)\n"
     ]
    }
   ],
   "source": [
    "print(\"\",W49,\"\\n\",W50,\"\\n\",W51,\"\\n\",W52,\"\\n\",W53,\"\\n\",W54,\"\\n\",W55,\"\\n\",W56)"
   ]
  },
  {
   "cell_type": "markdown",
   "id": "3e4185e5",
   "metadata": {},
   "source": [
    "### Simulating Round of 8 - QuaterFinals"
   ]
  },
  {
   "cell_type": "code",
   "execution_count": 78,
   "id": "02540a91",
   "metadata": {},
   "outputs": [
    {
     "data": {
      "text/plain": [
       "('France', 0.5533333333333333)"
      ]
     },
     "execution_count": 78,
     "metadata": {},
     "output_type": "execute_result"
    }
   ],
   "source": [
    "#W49, W50\n",
    "W57 = knockout_result(W49[0], W50[0])\n",
    "W57"
   ]
  },
  {
   "cell_type": "code",
   "execution_count": 79,
   "id": "fbe7d648",
   "metadata": {},
   "outputs": [
    {
     "data": {
      "text/plain": [
       "('Brazil', 0.59)"
      ]
     },
     "execution_count": 79,
     "metadata": {},
     "output_type": "execute_result"
    }
   ],
   "source": [
    "#W53, W54\n",
    "W58 = knockout_result(W53[0], W54[0])\n",
    "W58"
   ]
  },
  {
   "cell_type": "code",
   "execution_count": 80,
   "id": "b7db2c86",
   "metadata": {},
   "outputs": [
    {
     "data": {
      "text/plain": [
       "('England', 0.65)"
      ]
     },
     "execution_count": 80,
     "metadata": {},
     "output_type": "execute_result"
    }
   ],
   "source": [
    "#W51, W52\n",
    "W59 = knockout_result(W51[0], W52[0])\n",
    "W59"
   ]
  },
  {
   "cell_type": "code",
   "execution_count": 81,
   "id": "ce979c3d",
   "metadata": {},
   "outputs": [
    {
     "data": {
      "text/plain": [
       "('Germany', 0.66)"
      ]
     },
     "execution_count": 81,
     "metadata": {},
     "output_type": "execute_result"
    }
   ],
   "source": [
    "#W55, W56\n",
    "W60 = knockout_result(W55[0], W56[0])\n",
    "W60"
   ]
  },
  {
   "cell_type": "markdown",
   "id": "dcacf092",
   "metadata": {},
   "source": [
    "### QuaterFinals Winners"
   ]
  },
  {
   "cell_type": "code",
   "execution_count": 82,
   "id": "cc6d5cef",
   "metadata": {},
   "outputs": [
    {
     "name": "stdout",
     "output_type": "stream",
     "text": [
      " ('France', 0.5533333333333333) \n",
      " ('Brazil', 0.59) \n",
      " ('England', 0.65) \n",
      " ('Germany', 0.66)\n"
     ]
    }
   ],
   "source": [
    "print(\"\",W57,\"\\n\",W58,\"\\n\",W59,\"\\n\",W60)"
   ]
  },
  {
   "cell_type": "markdown",
   "id": "fb12d831",
   "metadata": {},
   "source": [
    "### Simulating SemiFinals"
   ]
  },
  {
   "cell_type": "code",
   "execution_count": 83,
   "id": "2264cf76",
   "metadata": {},
   "outputs": [
    {
     "data": {
      "text/plain": [
       "('France', 0.7093333333333333)"
      ]
     },
     "execution_count": 83,
     "metadata": {},
     "output_type": "execute_result"
    }
   ],
   "source": [
    "#W57,W58\n",
    "final1 = knockout_result(W57[0], W58[0])\n",
    "final1"
   ]
  },
  {
   "cell_type": "code",
   "execution_count": 84,
   "id": "6d197205",
   "metadata": {},
   "outputs": [
    {
     "data": {
      "text/plain": [
       "('England', 0.5833333333333333)"
      ]
     },
     "execution_count": 84,
     "metadata": {},
     "output_type": "execute_result"
    }
   ],
   "source": [
    "#W59,W60\n",
    "final2 = knockout_result(W59[0], W60[0])\n",
    "final2"
   ]
  },
  {
   "cell_type": "markdown",
   "id": "ed4aa846",
   "metadata": {},
   "source": [
    "### SemiFinals Winner"
   ]
  },
  {
   "cell_type": "code",
   "execution_count": 85,
   "id": "71e054f2",
   "metadata": {},
   "outputs": [
    {
     "name": "stdout",
     "output_type": "stream",
     "text": [
      " ('France', 0.7093333333333333) \n",
      " ('England', 0.5833333333333333)\n"
     ]
    }
   ],
   "source": [
    "print(\"\",final1,\"\\n\",final2)"
   ]
  },
  {
   "cell_type": "markdown",
   "id": "761789af",
   "metadata": {},
   "source": [
    "### 3rd place Match"
   ]
  },
  {
   "cell_type": "code",
   "execution_count": 86,
   "id": "9e23725a",
   "metadata": {},
   "outputs": [
    {
     "data": {
      "text/plain": [
       "'Brazil'"
      ]
     },
     "execution_count": 86,
     "metadata": {},
     "output_type": "execute_result"
    }
   ],
   "source": [
    "team1 = list([W57[0], W58[0]])\n",
    "team1.remove(final1[0])\n",
    "team1 = team1[0]\n",
    "team1"
   ]
  },
  {
   "cell_type": "code",
   "execution_count": 87,
   "id": "8bc8c240",
   "metadata": {},
   "outputs": [
    {
     "data": {
      "text/plain": [
       "'Germany'"
      ]
     },
     "execution_count": 87,
     "metadata": {},
     "output_type": "execute_result"
    }
   ],
   "source": [
    "team2 = list([W59[0], W60[0]])\n",
    "team2.remove(final2[0])\n",
    "team2 = team2[0]\n",
    "team2"
   ]
  },
  {
   "cell_type": "code",
   "execution_count": 88,
   "id": "01e25cf0",
   "metadata": {},
   "outputs": [
    {
     "data": {
      "text/plain": [
       "('Brazil', 0.66)"
      ]
     },
     "execution_count": 88,
     "metadata": {},
     "output_type": "execute_result"
    }
   ],
   "source": [
    "thirdPlace = knockout_result(team1,team2)\n",
    "thirdPlace"
   ]
  },
  {
   "cell_type": "markdown",
   "id": "1b242d51",
   "metadata": {},
   "source": [
    "## FINALS "
   ]
  },
  {
   "cell_type": "code",
   "execution_count": 89,
   "id": "a94af99b",
   "metadata": {},
   "outputs": [
    {
     "data": {
      "text/plain": [
       "('France', 0.711)"
      ]
     },
     "execution_count": 89,
     "metadata": {},
     "output_type": "execute_result"
    }
   ],
   "source": [
    "Finals = knockout_result(final1[0], final2[0])\n",
    "Finals"
   ]
  },
  {
   "cell_type": "code",
   "execution_count": 90,
   "id": "c0124ce8",
   "metadata": {},
   "outputs": [
    {
     "data": {
      "text/plain": [
       "'England'"
      ]
     },
     "execution_count": 90,
     "metadata": {},
     "output_type": "execute_result"
    }
   ],
   "source": [
    "Runner= list([final1[0], final2[0]])\n",
    "Runner.remove(Finals[0])\n",
    "Runner = Runner[0]\n",
    "Runner"
   ]
  },
  {
   "cell_type": "code",
   "execution_count": 91,
   "id": "ccbf5f68",
   "metadata": {},
   "outputs": [
    {
     "name": "stdout",
     "output_type": "stream",
     "text": [
      "Winner is France\n",
      "2nd Place is England\n",
      "3rd Place is Brazil\n"
     ]
    }
   ],
   "source": [
    "print(\"Winner is {}\".format(Finals[0]))\n",
    "print(\"2nd Place is {}\".format(Runner))\n",
    "print(\"3rd Place is {}\".format(thirdPlace[0]))"
   ]
  }
 ],
 "metadata": {
  "kernelspec": {
   "display_name": "deepLearning",
   "language": "python",
   "name": "deeplearning"
  },
  "language_info": {
   "codemirror_mode": {
    "name": "ipython",
    "version": 3
   },
   "file_extension": ".py",
   "mimetype": "text/x-python",
   "name": "python",
   "nbconvert_exporter": "python",
   "pygments_lexer": "ipython3",
   "version": "3.9.13"
  }
 },
 "nbformat": 4,
 "nbformat_minor": 5
}
